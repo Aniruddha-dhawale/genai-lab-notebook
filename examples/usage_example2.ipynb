{
 "cells": [
  {
   "cell_type": "code",
   "execution_count": 2,
   "id": "c9fdaa23",
   "metadata": {},
   "outputs": [
    {
     "name": "stdout",
     "output_type": "stream",
     "text": [
      "Obtaining file:///C:/Users/aniru/Desktop/genai-lab-notebook\n",
      "  Installing build dependencies: started\n",
      "  Installing build dependencies: finished with status 'done'\n",
      "  Checking if build backend supports build_editable: started\n",
      "  Checking if build backend supports build_editable: finished with status 'done'\n",
      "  Getting requirements to build editable: started\n",
      "  Getting requirements to build editable: finished with status 'done'\n",
      "  Preparing editable metadata (pyproject.toml): started\n",
      "  Preparing editable metadata (pyproject.toml): finished with status 'done'\n",
      "Requirement already satisfied: ipython in c:\\users\\aniru\\desktop\\genai-lab-notebook\\.venv\\lib\\site-packages (from genai_labnote==0.1.0) (9.6.0)\n",
      "Requirement already satisfied: pandas in c:\\users\\aniru\\desktop\\genai-lab-notebook\\.venv\\lib\\site-packages (from genai_labnote==0.1.0) (2.3.3)\n",
      "Requirement already satisfied: faiss-cpu in c:\\users\\aniru\\desktop\\genai-lab-notebook\\.venv\\lib\\site-packages (from genai_labnote==0.1.0) (1.12.0)\n",
      "Requirement already satisfied: sentence-transformers in c:\\users\\aniru\\desktop\\genai-lab-notebook\\.venv\\lib\\site-packages (from genai_labnote==0.1.0) (5.1.1)\n",
      "Requirement already satisfied: torch in c:\\users\\aniru\\desktop\\genai-lab-notebook\\.venv\\lib\\site-packages (from genai_labnote==0.1.0) (2.8.0)\n",
      "Requirement already satisfied: transformers[torch] in c:\\users\\aniru\\desktop\\genai-lab-notebook\\.venv\\lib\\site-packages (from genai_labnote==0.1.0) (4.56.2)\n",
      "Requirement already satisfied: accelerate in c:\\users\\aniru\\desktop\\genai-lab-notebook\\.venv\\lib\\site-packages (from genai_labnote==0.1.0) (1.10.1)\n",
      "Requirement already satisfied: google-generativeai>=0.5.4 in c:\\users\\aniru\\desktop\\genai-lab-notebook\\.venv\\lib\\site-packages (from genai_labnote==0.1.0) (0.8.5)\n",
      "Requirement already satisfied: langchain>=0.2.0 in c:\\users\\aniru\\desktop\\genai-lab-notebook\\.venv\\lib\\site-packages (from genai_labnote==0.1.0) (0.3.27)\n",
      "Requirement already satisfied: langchain-google-genai>=1.0.5 in c:\\users\\aniru\\desktop\\genai-lab-notebook\\.venv\\lib\\site-packages (from genai_labnote==0.1.0) (2.0.10)\n",
      "Requirement already satisfied: langchain_experimental in c:\\users\\aniru\\desktop\\genai-lab-notebook\\.venv\\lib\\site-packages (from genai_labnote==0.1.0) (0.3.4)\n",
      "Requirement already satisfied: python-dotenv in c:\\users\\aniru\\desktop\\genai-lab-notebook\\.venv\\lib\\site-packages (from genai_labnote==0.1.0) (1.1.1)\n",
      "Requirement already satisfied: google-ai-generativelanguage==0.6.15 in c:\\users\\aniru\\desktop\\genai-lab-notebook\\.venv\\lib\\site-packages (from google-generativeai>=0.5.4->genai_labnote==0.1.0) (0.6.15)\n",
      "Requirement already satisfied: google-api-core in c:\\users\\aniru\\desktop\\genai-lab-notebook\\.venv\\lib\\site-packages (from google-generativeai>=0.5.4->genai_labnote==0.1.0) (2.25.1)\n",
      "Requirement already satisfied: google-api-python-client in c:\\users\\aniru\\desktop\\genai-lab-notebook\\.venv\\lib\\site-packages (from google-generativeai>=0.5.4->genai_labnote==0.1.0) (2.183.0)\n",
      "Requirement already satisfied: google-auth>=2.15.0 in c:\\users\\aniru\\desktop\\genai-lab-notebook\\.venv\\lib\\site-packages (from google-generativeai>=0.5.4->genai_labnote==0.1.0) (2.41.1)\n",
      "Requirement already satisfied: protobuf in c:\\users\\aniru\\desktop\\genai-lab-notebook\\.venv\\lib\\site-packages (from google-generativeai>=0.5.4->genai_labnote==0.1.0) (5.29.5)\n",
      "Requirement already satisfied: pydantic in c:\\users\\aniru\\desktop\\genai-lab-notebook\\.venv\\lib\\site-packages (from google-generativeai>=0.5.4->genai_labnote==0.1.0) (2.11.9)\n",
      "Requirement already satisfied: tqdm in c:\\users\\aniru\\desktop\\genai-lab-notebook\\.venv\\lib\\site-packages (from google-generativeai>=0.5.4->genai_labnote==0.1.0) (4.67.1)\n",
      "Requirement already satisfied: typing-extensions in c:\\users\\aniru\\desktop\\genai-lab-notebook\\.venv\\lib\\site-packages (from google-generativeai>=0.5.4->genai_labnote==0.1.0) (4.15.0)\n",
      "Requirement already satisfied: proto-plus<2.0.0dev,>=1.22.3 in c:\\users\\aniru\\desktop\\genai-lab-notebook\\.venv\\lib\\site-packages (from google-ai-generativelanguage==0.6.15->google-generativeai>=0.5.4->genai_labnote==0.1.0) (1.26.1)\n",
      "Requirement already satisfied: googleapis-common-protos<2.0.0,>=1.56.2 in c:\\users\\aniru\\desktop\\genai-lab-notebook\\.venv\\lib\\site-packages (from google-api-core->google-generativeai>=0.5.4->genai_labnote==0.1.0) (1.70.0)\n",
      "Requirement already satisfied: requests<3.0.0,>=2.18.0 in c:\\users\\aniru\\desktop\\genai-lab-notebook\\.venv\\lib\\site-packages (from google-api-core->google-generativeai>=0.5.4->genai_labnote==0.1.0) (2.32.5)\n",
      "Requirement already satisfied: grpcio<2.0.0,>=1.33.2 in c:\\users\\aniru\\desktop\\genai-lab-notebook\\.venv\\lib\\site-packages (from google-api-core[grpc]!=2.0.*,!=2.1.*,!=2.10.*,!=2.2.*,!=2.3.*,!=2.4.*,!=2.5.*,!=2.6.*,!=2.7.*,!=2.8.*,!=2.9.*,<3.0.0dev,>=1.34.1->google-ai-generativelanguage==0.6.15->google-generativeai>=0.5.4->genai_labnote==0.1.0) (1.75.1)\n",
      "Requirement already satisfied: grpcio-status<2.0.0,>=1.33.2 in c:\\users\\aniru\\desktop\\genai-lab-notebook\\.venv\\lib\\site-packages (from google-api-core[grpc]!=2.0.*,!=2.1.*,!=2.10.*,!=2.2.*,!=2.3.*,!=2.4.*,!=2.5.*,!=2.6.*,!=2.7.*,!=2.8.*,!=2.9.*,<3.0.0dev,>=1.34.1->google-ai-generativelanguage==0.6.15->google-generativeai>=0.5.4->genai_labnote==0.1.0) (1.71.2)\n",
      "Requirement already satisfied: cachetools<7.0,>=2.0.0 in c:\\users\\aniru\\desktop\\genai-lab-notebook\\.venv\\lib\\site-packages (from google-auth>=2.15.0->google-generativeai>=0.5.4->genai_labnote==0.1.0) (6.2.0)\n",
      "Requirement already satisfied: pyasn1-modules>=0.2.1 in c:\\users\\aniru\\desktop\\genai-lab-notebook\\.venv\\lib\\site-packages (from google-auth>=2.15.0->google-generativeai>=0.5.4->genai_labnote==0.1.0) (0.4.2)\n",
      "Requirement already satisfied: rsa<5,>=3.1.4 in c:\\users\\aniru\\desktop\\genai-lab-notebook\\.venv\\lib\\site-packages (from google-auth>=2.15.0->google-generativeai>=0.5.4->genai_labnote==0.1.0) (4.9.1)\n",
      "Requirement already satisfied: charset_normalizer<4,>=2 in c:\\users\\aniru\\desktop\\genai-lab-notebook\\.venv\\lib\\site-packages (from requests<3.0.0,>=2.18.0->google-api-core->google-generativeai>=0.5.4->genai_labnote==0.1.0) (3.4.3)\n",
      "Requirement already satisfied: idna<4,>=2.5 in c:\\users\\aniru\\desktop\\genai-lab-notebook\\.venv\\lib\\site-packages (from requests<3.0.0,>=2.18.0->google-api-core->google-generativeai>=0.5.4->genai_labnote==0.1.0) (3.10)\n",
      "Requirement already satisfied: urllib3<3,>=1.21.1 in c:\\users\\aniru\\desktop\\genai-lab-notebook\\.venv\\lib\\site-packages (from requests<3.0.0,>=2.18.0->google-api-core->google-generativeai>=0.5.4->genai_labnote==0.1.0) (2.5.0)\n",
      "Requirement already satisfied: certifi>=2017.4.17 in c:\\users\\aniru\\desktop\\genai-lab-notebook\\.venv\\lib\\site-packages (from requests<3.0.0,>=2.18.0->google-api-core->google-generativeai>=0.5.4->genai_labnote==0.1.0) (2025.8.3)\n",
      "Requirement already satisfied: pyasn1>=0.1.3 in c:\\users\\aniru\\desktop\\genai-lab-notebook\\.venv\\lib\\site-packages (from rsa<5,>=3.1.4->google-auth>=2.15.0->google-generativeai>=0.5.4->genai_labnote==0.1.0) (0.6.1)\n",
      "Requirement already satisfied: langchain-core<1.0.0,>=0.3.72 in c:\\users\\aniru\\desktop\\genai-lab-notebook\\.venv\\lib\\site-packages (from langchain>=0.2.0->genai_labnote==0.1.0) (0.3.77)\n",
      "Requirement already satisfied: langchain-text-splitters<1.0.0,>=0.3.9 in c:\\users\\aniru\\desktop\\genai-lab-notebook\\.venv\\lib\\site-packages (from langchain>=0.2.0->genai_labnote==0.1.0) (0.3.11)\n",
      "Requirement already satisfied: langsmith>=0.1.17 in c:\\users\\aniru\\desktop\\genai-lab-notebook\\.venv\\lib\\site-packages (from langchain>=0.2.0->genai_labnote==0.1.0) (0.4.31)\n",
      "Requirement already satisfied: SQLAlchemy<3,>=1.4 in c:\\users\\aniru\\desktop\\genai-lab-notebook\\.venv\\lib\\site-packages (from langchain>=0.2.0->genai_labnote==0.1.0) (2.0.43)\n",
      "Requirement already satisfied: PyYAML>=5.3 in c:\\users\\aniru\\desktop\\genai-lab-notebook\\.venv\\lib\\site-packages (from langchain>=0.2.0->genai_labnote==0.1.0) (6.0.3)\n",
      "Requirement already satisfied: tenacity!=8.4.0,<10.0.0,>=8.1.0 in c:\\users\\aniru\\desktop\\genai-lab-notebook\\.venv\\lib\\site-packages (from langchain-core<1.0.0,>=0.3.72->langchain>=0.2.0->genai_labnote==0.1.0) (9.1.2)\n",
      "Requirement already satisfied: jsonpatch<2.0.0,>=1.33.0 in c:\\users\\aniru\\desktop\\genai-lab-notebook\\.venv\\lib\\site-packages (from langchain-core<1.0.0,>=0.3.72->langchain>=0.2.0->genai_labnote==0.1.0) (1.33)\n",
      "Requirement already satisfied: packaging<26.0.0,>=23.2.0 in c:\\users\\aniru\\desktop\\genai-lab-notebook\\.venv\\lib\\site-packages (from langchain-core<1.0.0,>=0.3.72->langchain>=0.2.0->genai_labnote==0.1.0) (25.0)\n",
      "Requirement already satisfied: jsonpointer>=1.9 in c:\\users\\aniru\\desktop\\genai-lab-notebook\\.venv\\lib\\site-packages (from jsonpatch<2.0.0,>=1.33.0->langchain-core<1.0.0,>=0.3.72->langchain>=0.2.0->genai_labnote==0.1.0) (3.0.0)\n",
      "Requirement already satisfied: httpx<1,>=0.23.0 in c:\\users\\aniru\\desktop\\genai-lab-notebook\\.venv\\lib\\site-packages (from langsmith>=0.1.17->langchain>=0.2.0->genai_labnote==0.1.0) (0.28.1)\n",
      "Requirement already satisfied: orjson>=3.9.14 in c:\\users\\aniru\\desktop\\genai-lab-notebook\\.venv\\lib\\site-packages (from langsmith>=0.1.17->langchain>=0.2.0->genai_labnote==0.1.0) (3.11.3)\n",
      "Requirement already satisfied: requests-toolbelt>=1.0.0 in c:\\users\\aniru\\desktop\\genai-lab-notebook\\.venv\\lib\\site-packages (from langsmith>=0.1.17->langchain>=0.2.0->genai_labnote==0.1.0) (1.0.0)\n",
      "Requirement already satisfied: zstandard>=0.23.0 in c:\\users\\aniru\\desktop\\genai-lab-notebook\\.venv\\lib\\site-packages (from langsmith>=0.1.17->langchain>=0.2.0->genai_labnote==0.1.0) (0.25.0)\n",
      "Requirement already satisfied: anyio in c:\\users\\aniru\\desktop\\genai-lab-notebook\\.venv\\lib\\site-packages (from httpx<1,>=0.23.0->langsmith>=0.1.17->langchain>=0.2.0->genai_labnote==0.1.0) (4.11.0)\n",
      "Requirement already satisfied: httpcore==1.* in c:\\users\\aniru\\desktop\\genai-lab-notebook\\.venv\\lib\\site-packages (from httpx<1,>=0.23.0->langsmith>=0.1.17->langchain>=0.2.0->genai_labnote==0.1.0) (1.0.9)\n",
      "Requirement already satisfied: h11>=0.16 in c:\\users\\aniru\\desktop\\genai-lab-notebook\\.venv\\lib\\site-packages (from httpcore==1.*->httpx<1,>=0.23.0->langsmith>=0.1.17->langchain>=0.2.0->genai_labnote==0.1.0) (0.16.0)\n",
      "Requirement already satisfied: annotated-types>=0.6.0 in c:\\users\\aniru\\desktop\\genai-lab-notebook\\.venv\\lib\\site-packages (from pydantic->google-generativeai>=0.5.4->genai_labnote==0.1.0) (0.7.0)\n",
      "Requirement already satisfied: pydantic-core==2.33.2 in c:\\users\\aniru\\desktop\\genai-lab-notebook\\.venv\\lib\\site-packages (from pydantic->google-generativeai>=0.5.4->genai_labnote==0.1.0) (2.33.2)\n",
      "Requirement already satisfied: typing-inspection>=0.4.0 in c:\\users\\aniru\\desktop\\genai-lab-notebook\\.venv\\lib\\site-packages (from pydantic->google-generativeai>=0.5.4->genai_labnote==0.1.0) (0.4.2)\n",
      "Requirement already satisfied: greenlet>=1 in c:\\users\\aniru\\desktop\\genai-lab-notebook\\.venv\\lib\\site-packages (from SQLAlchemy<3,>=1.4->langchain>=0.2.0->genai_labnote==0.1.0) (3.2.4)\n",
      "Requirement already satisfied: filetype<2.0.0,>=1.2.0 in c:\\users\\aniru\\desktop\\genai-lab-notebook\\.venv\\lib\\site-packages (from langchain-google-genai>=1.0.5->genai_labnote==0.1.0) (1.2.0)\n",
      "Requirement already satisfied: numpy<3.0.0,>=1.17 in c:\\users\\aniru\\desktop\\genai-lab-notebook\\.venv\\lib\\site-packages (from accelerate->genai_labnote==0.1.0) (2.3.3)\n",
      "Requirement already satisfied: psutil in c:\\users\\aniru\\desktop\\genai-lab-notebook\\.venv\\lib\\site-packages (from accelerate->genai_labnote==0.1.0) (7.1.0)\n",
      "Requirement already satisfied: huggingface_hub>=0.21.0 in c:\\users\\aniru\\desktop\\genai-lab-notebook\\.venv\\lib\\site-packages (from accelerate->genai_labnote==0.1.0) (0.35.3)\n",
      "Requirement already satisfied: safetensors>=0.4.3 in c:\\users\\aniru\\desktop\\genai-lab-notebook\\.venv\\lib\\site-packages (from accelerate->genai_labnote==0.1.0) (0.6.2)\n",
      "Requirement already satisfied: filelock in c:\\users\\aniru\\desktop\\genai-lab-notebook\\.venv\\lib\\site-packages (from huggingface_hub>=0.21.0->accelerate->genai_labnote==0.1.0) (3.19.1)\n",
      "Requirement already satisfied: fsspec>=2023.5.0 in c:\\users\\aniru\\desktop\\genai-lab-notebook\\.venv\\lib\\site-packages (from huggingface_hub>=0.21.0->accelerate->genai_labnote==0.1.0) (2025.9.0)\n",
      "Requirement already satisfied: sympy>=1.13.3 in c:\\users\\aniru\\desktop\\genai-lab-notebook\\.venv\\lib\\site-packages (from torch->genai_labnote==0.1.0) (1.14.0)\n",
      "Requirement already satisfied: networkx in c:\\users\\aniru\\desktop\\genai-lab-notebook\\.venv\\lib\\site-packages (from torch->genai_labnote==0.1.0) (3.5)\n",
      "Requirement already satisfied: jinja2 in c:\\users\\aniru\\desktop\\genai-lab-notebook\\.venv\\lib\\site-packages (from torch->genai_labnote==0.1.0) (3.1.6)\n",
      "Requirement already satisfied: setuptools in c:\\users\\aniru\\desktop\\genai-lab-notebook\\.venv\\lib\\site-packages (from torch->genai_labnote==0.1.0) (80.9.0)\n",
      "Requirement already satisfied: mpmath<1.4,>=1.1.0 in c:\\users\\aniru\\desktop\\genai-lab-notebook\\.venv\\lib\\site-packages (from sympy>=1.13.3->torch->genai_labnote==0.1.0) (1.3.0)\n",
      "Requirement already satisfied: colorama in c:\\users\\aniru\\desktop\\genai-lab-notebook\\.venv\\lib\\site-packages (from tqdm->google-generativeai>=0.5.4->genai_labnote==0.1.0) (0.4.6)\n",
      "Requirement already satisfied: sniffio>=1.1 in c:\\users\\aniru\\desktop\\genai-lab-notebook\\.venv\\lib\\site-packages (from anyio->httpx<1,>=0.23.0->langsmith>=0.1.17->langchain>=0.2.0->genai_labnote==0.1.0) (1.3.1)\n",
      "Requirement already satisfied: httplib2<1.0.0,>=0.19.0 in c:\\users\\aniru\\desktop\\genai-lab-notebook\\.venv\\lib\\site-packages (from google-api-python-client->google-generativeai>=0.5.4->genai_labnote==0.1.0) (0.31.0)\n",
      "Requirement already satisfied: google-auth-httplib2<1.0.0,>=0.2.0 in c:\\users\\aniru\\desktop\\genai-lab-notebook\\.venv\\lib\\site-packages (from google-api-python-client->google-generativeai>=0.5.4->genai_labnote==0.1.0) (0.2.0)\n",
      "Requirement already satisfied: uritemplate<5,>=3.0.1 in c:\\users\\aniru\\desktop\\genai-lab-notebook\\.venv\\lib\\site-packages (from google-api-python-client->google-generativeai>=0.5.4->genai_labnote==0.1.0) (4.2.0)\n",
      "Requirement already satisfied: pyparsing<4,>=3.0.4 in c:\\users\\aniru\\desktop\\genai-lab-notebook\\.venv\\lib\\site-packages (from httplib2<1.0.0,>=0.19.0->google-api-python-client->google-generativeai>=0.5.4->genai_labnote==0.1.0) (3.2.5)\n",
      "Requirement already satisfied: decorator in c:\\users\\aniru\\desktop\\genai-lab-notebook\\.venv\\lib\\site-packages (from ipython->genai_labnote==0.1.0) (5.2.1)\n",
      "Requirement already satisfied: ipython-pygments-lexers in c:\\users\\aniru\\desktop\\genai-lab-notebook\\.venv\\lib\\site-packages (from ipython->genai_labnote==0.1.0) (1.1.1)\n",
      "Requirement already satisfied: jedi>=0.16 in c:\\users\\aniru\\desktop\\genai-lab-notebook\\.venv\\lib\\site-packages (from ipython->genai_labnote==0.1.0) (0.19.2)\n",
      "Requirement already satisfied: matplotlib-inline in c:\\users\\aniru\\desktop\\genai-lab-notebook\\.venv\\lib\\site-packages (from ipython->genai_labnote==0.1.0) (0.1.7)\n",
      "Requirement already satisfied: prompt_toolkit<3.1.0,>=3.0.41 in c:\\users\\aniru\\desktop\\genai-lab-notebook\\.venv\\lib\\site-packages (from ipython->genai_labnote==0.1.0) (3.0.52)\n",
      "Requirement already satisfied: pygments>=2.4.0 in c:\\users\\aniru\\desktop\\genai-lab-notebook\\.venv\\lib\\site-packages (from ipython->genai_labnote==0.1.0) (2.19.2)\n",
      "Requirement already satisfied: stack_data in c:\\users\\aniru\\desktop\\genai-lab-notebook\\.venv\\lib\\site-packages (from ipython->genai_labnote==0.1.0) (0.6.3)\n",
      "Requirement already satisfied: traitlets>=5.13.0 in c:\\users\\aniru\\desktop\\genai-lab-notebook\\.venv\\lib\\site-packages (from ipython->genai_labnote==0.1.0) (5.14.3)\n",
      "Requirement already satisfied: wcwidth in c:\\users\\aniru\\desktop\\genai-lab-notebook\\.venv\\lib\\site-packages (from prompt_toolkit<3.1.0,>=3.0.41->ipython->genai_labnote==0.1.0) (0.2.14)\n",
      "Requirement already satisfied: parso<0.9.0,>=0.8.4 in c:\\users\\aniru\\desktop\\genai-lab-notebook\\.venv\\lib\\site-packages (from jedi>=0.16->ipython->genai_labnote==0.1.0) (0.8.5)\n",
      "Requirement already satisfied: MarkupSafe>=2.0 in c:\\users\\aniru\\desktop\\genai-lab-notebook\\.venv\\lib\\site-packages (from jinja2->torch->genai_labnote==0.1.0) (3.0.3)\n",
      "Requirement already satisfied: langchain-community<0.4.0,>=0.3.0 in c:\\users\\aniru\\desktop\\genai-lab-notebook\\.venv\\lib\\site-packages (from langchain_experimental->genai_labnote==0.1.0) (0.3.30)\n",
      "Requirement already satisfied: aiohttp<4.0.0,>=3.8.3 in c:\\users\\aniru\\desktop\\genai-lab-notebook\\.venv\\lib\\site-packages (from langchain-community<0.4.0,>=0.3.0->langchain_experimental->genai_labnote==0.1.0) (3.12.15)\n",
      "Requirement already satisfied: dataclasses-json<0.7.0,>=0.6.7 in c:\\users\\aniru\\desktop\\genai-lab-notebook\\.venv\\lib\\site-packages (from langchain-community<0.4.0,>=0.3.0->langchain_experimental->genai_labnote==0.1.0) (0.6.7)\n",
      "Requirement already satisfied: pydantic-settings<3.0.0,>=2.10.1 in c:\\users\\aniru\\desktop\\genai-lab-notebook\\.venv\\lib\\site-packages (from langchain-community<0.4.0,>=0.3.0->langchain_experimental->genai_labnote==0.1.0) (2.11.0)\n",
      "Requirement already satisfied: httpx-sse<1.0.0,>=0.4.0 in c:\\users\\aniru\\desktop\\genai-lab-notebook\\.venv\\lib\\site-packages (from langchain-community<0.4.0,>=0.3.0->langchain_experimental->genai_labnote==0.1.0) (0.4.1)\n",
      "Requirement already satisfied: aiohappyeyeballs>=2.5.0 in c:\\users\\aniru\\desktop\\genai-lab-notebook\\.venv\\lib\\site-packages (from aiohttp<4.0.0,>=3.8.3->langchain-community<0.4.0,>=0.3.0->langchain_experimental->genai_labnote==0.1.0) (2.6.1)\n",
      "Requirement already satisfied: aiosignal>=1.4.0 in c:\\users\\aniru\\desktop\\genai-lab-notebook\\.venv\\lib\\site-packages (from aiohttp<4.0.0,>=3.8.3->langchain-community<0.4.0,>=0.3.0->langchain_experimental->genai_labnote==0.1.0) (1.4.0)\n",
      "Requirement already satisfied: attrs>=17.3.0 in c:\\users\\aniru\\desktop\\genai-lab-notebook\\.venv\\lib\\site-packages (from aiohttp<4.0.0,>=3.8.3->langchain-community<0.4.0,>=0.3.0->langchain_experimental->genai_labnote==0.1.0) (25.3.0)\n",
      "Requirement already satisfied: frozenlist>=1.1.1 in c:\\users\\aniru\\desktop\\genai-lab-notebook\\.venv\\lib\\site-packages (from aiohttp<4.0.0,>=3.8.3->langchain-community<0.4.0,>=0.3.0->langchain_experimental->genai_labnote==0.1.0) (1.7.0)\n",
      "Requirement already satisfied: multidict<7.0,>=4.5 in c:\\users\\aniru\\desktop\\genai-lab-notebook\\.venv\\lib\\site-packages (from aiohttp<4.0.0,>=3.8.3->langchain-community<0.4.0,>=0.3.0->langchain_experimental->genai_labnote==0.1.0) (6.6.4)\n",
      "Requirement already satisfied: propcache>=0.2.0 in c:\\users\\aniru\\desktop\\genai-lab-notebook\\.venv\\lib\\site-packages (from aiohttp<4.0.0,>=3.8.3->langchain-community<0.4.0,>=0.3.0->langchain_experimental->genai_labnote==0.1.0) (0.3.2)\n",
      "Requirement already satisfied: yarl<2.0,>=1.17.0 in c:\\users\\aniru\\desktop\\genai-lab-notebook\\.venv\\lib\\site-packages (from aiohttp<4.0.0,>=3.8.3->langchain-community<0.4.0,>=0.3.0->langchain_experimental->genai_labnote==0.1.0) (1.20.1)\n",
      "Requirement already satisfied: marshmallow<4.0.0,>=3.18.0 in c:\\users\\aniru\\desktop\\genai-lab-notebook\\.venv\\lib\\site-packages (from dataclasses-json<0.7.0,>=0.6.7->langchain-community<0.4.0,>=0.3.0->langchain_experimental->genai_labnote==0.1.0) (3.26.1)\n",
      "Requirement already satisfied: typing-inspect<1,>=0.4.0 in c:\\users\\aniru\\desktop\\genai-lab-notebook\\.venv\\lib\\site-packages (from dataclasses-json<0.7.0,>=0.6.7->langchain-community<0.4.0,>=0.3.0->langchain_experimental->genai_labnote==0.1.0) (0.9.0)\n",
      "Requirement already satisfied: mypy-extensions>=0.3.0 in c:\\users\\aniru\\desktop\\genai-lab-notebook\\.venv\\lib\\site-packages (from typing-inspect<1,>=0.4.0->dataclasses-json<0.7.0,>=0.6.7->langchain-community<0.4.0,>=0.3.0->langchain_experimental->genai_labnote==0.1.0) (1.1.0)\n",
      "Requirement already satisfied: python-dateutil>=2.8.2 in c:\\users\\aniru\\desktop\\genai-lab-notebook\\.venv\\lib\\site-packages (from pandas->genai_labnote==0.1.0) (2.9.0.post0)\n",
      "Requirement already satisfied: pytz>=2020.1 in c:\\users\\aniru\\desktop\\genai-lab-notebook\\.venv\\lib\\site-packages (from pandas->genai_labnote==0.1.0) (2025.2)\n",
      "Requirement already satisfied: tzdata>=2022.7 in c:\\users\\aniru\\desktop\\genai-lab-notebook\\.venv\\lib\\site-packages (from pandas->genai_labnote==0.1.0) (2025.2)\n",
      "Requirement already satisfied: six>=1.5 in c:\\users\\aniru\\desktop\\genai-lab-notebook\\.venv\\lib\\site-packages (from python-dateutil>=2.8.2->pandas->genai_labnote==0.1.0) (1.17.0)\n",
      "Requirement already satisfied: scikit-learn in c:\\users\\aniru\\desktop\\genai-lab-notebook\\.venv\\lib\\site-packages (from sentence-transformers->genai_labnote==0.1.0) (1.7.2)\n",
      "Requirement already satisfied: scipy in c:\\users\\aniru\\desktop\\genai-lab-notebook\\.venv\\lib\\site-packages (from sentence-transformers->genai_labnote==0.1.0) (1.16.2)\n",
      "Requirement already satisfied: Pillow in c:\\users\\aniru\\desktop\\genai-lab-notebook\\.venv\\lib\\site-packages (from sentence-transformers->genai_labnote==0.1.0) (11.3.0)\n",
      "Requirement already satisfied: regex!=2019.12.17 in c:\\users\\aniru\\desktop\\genai-lab-notebook\\.venv\\lib\\site-packages (from transformers[torch]->genai_labnote==0.1.0) (2025.9.18)\n",
      "Requirement already satisfied: tokenizers<=0.23.0,>=0.22.0 in c:\\users\\aniru\\desktop\\genai-lab-notebook\\.venv\\lib\\site-packages (from transformers[torch]->genai_labnote==0.1.0) (0.22.1)\n",
      "Requirement already satisfied: joblib>=1.2.0 in c:\\users\\aniru\\desktop\\genai-lab-notebook\\.venv\\lib\\site-packages (from scikit-learn->sentence-transformers->genai_labnote==0.1.0) (1.5.2)\n",
      "Requirement already satisfied: threadpoolctl>=3.1.0 in c:\\users\\aniru\\desktop\\genai-lab-notebook\\.venv\\lib\\site-packages (from scikit-learn->sentence-transformers->genai_labnote==0.1.0) (3.6.0)\n",
      "Requirement already satisfied: executing>=1.2.0 in c:\\users\\aniru\\desktop\\genai-lab-notebook\\.venv\\lib\\site-packages (from stack_data->ipython->genai_labnote==0.1.0) (2.2.1)\n",
      "Requirement already satisfied: asttokens>=2.1.0 in c:\\users\\aniru\\desktop\\genai-lab-notebook\\.venv\\lib\\site-packages (from stack_data->ipython->genai_labnote==0.1.0) (3.0.0)\n",
      "Requirement already satisfied: pure-eval in c:\\users\\aniru\\desktop\\genai-lab-notebook\\.venv\\lib\\site-packages (from stack_data->ipython->genai_labnote==0.1.0) (0.2.3)\n",
      "Building wheels for collected packages: genai_labnote\n",
      "  Building editable for genai_labnote (pyproject.toml): started\n",
      "  Building editable for genai_labnote (pyproject.toml): finished with status 'done'\n",
      "  Created wheel for genai_labnote: filename=genai_labnote-0.1.0-0.editable-py3-none-any.whl size=1897 sha256=c9e11a21d80ed31fa8cec27a640fe474c0cd8c594693f45613bba6c1b24edd2e\n",
      "  Stored in directory: C:\\Users\\aniru\\AppData\\Local\\Temp\\pip-ephem-wheel-cache-nleaglei\\wheels\\41\\8e\\80\\cc610c5f238e3da82fe2c12b17b6e769b35a11e5ea3ab88b63\n",
      "Successfully built genai_labnote\n",
      "Installing collected packages: genai_labnote\n",
      "  Attempting uninstall: genai_labnote\n",
      "    Found existing installation: genai_labnote 0.1.0\n",
      "    Uninstalling genai_labnote-0.1.0:\n",
      "      Successfully uninstalled genai_labnote-0.1.0\n",
      "Successfully installed genai_labnote-0.1.0\n",
      "Note: you may need to restart the kernel to use updated packages.\n"
     ]
    }
   ],
   "source": [
    "# Installs your local package and all dependencies from pyproject.toml\n",
    "%pip install -e .."
   ]
  },
  {
   "cell_type": "code",
   "execution_count": 9,
   "id": "4a355e53",
   "metadata": {},
   "outputs": [
    {
     "name": "stdout",
     "output_type": "stream",
     "text": [
      "✅ API Key loaded successfully from .env file.\n"
     ]
    }
   ],
   "source": [
    "from dotenv import load_dotenv\n",
    "import os\n",
    "\n",
    "# This line finds the .env file and loads the variables into the environment\n",
    "load_dotenv()\n",
    "\n",
    "# Optional: Confirm that the key was loaded successfully\n",
    "if os.getenv(\"GEMINI_API_KEY\"):\n",
    "    print(\"✅ API Key loaded successfully from .env file.\")\n",
    "else:\n",
    "    print(\"❌ API Key not found. Make sure your .env file is correct.\")"
   ]
  },
  {
   "cell_type": "code",
   "execution_count": 3,
   "id": "5dc56706",
   "metadata": {},
   "outputs": [
    {
     "name": "stderr",
     "output_type": "stream",
     "text": [
      "c:\\Users\\aniru\\Desktop\\genai-lab-notebook\\.venv\\Lib\\site-packages\\tqdm\\auto.py:21: TqdmWarning: IProgress not found. Please update jupyter and ipywidgets. See https://ipywidgets.readthedocs.io/en/stable/user_install.html\n",
      "  from .autonotebook import tqdm as notebook_tqdm\n"
     ]
    }
   ],
   "source": [
    "%load_ext genai_labnote"
   ]
  },
  {
   "cell_type": "code",
   "execution_count": 4,
   "id": "96a5370d",
   "metadata": {},
   "outputs": [
    {
     "name": "stdout",
     "output_type": "stream",
     "text": [
      "Initializing GenAI Lab Notebook...\n",
      "Initializing LLM Interface for local summarization...\n"
     ]
    },
    {
     "name": "stderr",
     "output_type": "stream",
     "text": [
      "Device set to use cpu\n"
     ]
    },
    {
     "name": "stdout",
     "output_type": "stream",
     "text": [
      "Local summarizer ready.\n",
      "Ready to log experiments and run agent.\n",
      "DataFrame created. Here's the correlation:\n"
     ]
    },
    {
     "data": {
      "text/html": [
       "<div>\n",
       "<style scoped>\n",
       "    .dataframe tbody tr th:only-of-type {\n",
       "        vertical-align: middle;\n",
       "    }\n",
       "\n",
       "    .dataframe tbody tr th {\n",
       "        vertical-align: top;\n",
       "    }\n",
       "\n",
       "    .dataframe thead th {\n",
       "        text-align: right;\n",
       "    }\n",
       "</style>\n",
       "<table border=\"1\" class=\"dataframe\">\n",
       "  <thead>\n",
       "    <tr style=\"text-align: right;\">\n",
       "      <th></th>\n",
       "      <th>a</th>\n",
       "      <th>b</th>\n",
       "    </tr>\n",
       "  </thead>\n",
       "  <tbody>\n",
       "    <tr>\n",
       "      <th>a</th>\n",
       "      <td>1.0</td>\n",
       "      <td>1.0</td>\n",
       "    </tr>\n",
       "    <tr>\n",
       "      <th>b</th>\n",
       "      <td>1.0</td>\n",
       "      <td>1.0</td>\n",
       "    </tr>\n",
       "  </tbody>\n",
       "</table>\n",
       "</div>"
      ],
      "text/plain": [
       "     a    b\n",
       "a  1.0  1.0\n",
       "b  1.0  1.0"
      ]
     },
     "execution_count": 4,
     "metadata": {},
     "output_type": "execute_result"
    },
    {
     "name": "stdout",
     "output_type": "stream",
     "text": [
      "\n",
      "🚀 Starting new log entry...\n",
      "🧠 Generated Summary:  PYTHON CODE: \"Python code\" PyTHON code: \"Pythonimport pandas as pd.com\" \"PYTHon Code\"\n",
      "✅ Experiment logged with ID 5.\n"
     ]
    }
   ],
   "source": [
    "%%log_experiment Simple data analysis on a small dataset.\n",
    "import pandas as pd\n",
    "\n",
    "df = pd.DataFrame({\n",
    "    'a': [1, 2, 3, 4, 5],\n",
    "    'b': [10, 20, 30, 40, 50]\n",
    "})\n",
    "print(\"DataFrame created. Here's the correlation:\")\n",
    "df.corr()"
   ]
  },
  {
   "cell_type": "code",
   "execution_count": 5,
   "id": "28e3b28b",
   "metadata": {},
   "outputs": [
    {
     "name": "stdout",
     "output_type": "stream",
     "text": [
      "Model coefficient: 0.6\n",
      "Model intercept: 2.2\n",
      "\n",
      "🚀 Starting new log entry...\n",
      "🧠 Generated Summary:  PYTHON CODE is a Python-based version of the Python program . It is called \"PYTHon Code\"\n",
      "✅ Experiment logged with ID 6.\n"
     ]
    }
   ],
   "source": [
    "%%log_experiment Train a basic linear regression model.\n",
    "from sklearn.linear_model import LinearRegression\n",
    "import numpy as np\n",
    "\n",
    "X = np.array([[1], [2], [3], [4], [5]])\n",
    "y = np.array([2, 4, 5, 4, 5])\n",
    "\n",
    "model = LinearRegression()\n",
    "model.fit(X, y)\n",
    "print(f\"Model coefficient: {model.coef_[0]}\")\n",
    "print(f\"Model intercept: {model.intercept_}\")"
   ]
  },
  {
   "cell_type": "code",
   "execution_count": 6,
   "id": "bc9a8020",
   "metadata": {},
   "outputs": [
    {
     "name": "stdout",
     "output_type": "stream",
     "text": [
      "Prediction: golden retriever\n",
      "Confidence: 0.59\n",
      "\n",
      "🚀 Starting new log entry...\n",
      "🧠 Generated Summary:  PIL import Image import Imageimport Imageimport urllib. Load a pre-trained ResNet-18 modelmodel = models . Download a sample image and get predictionpreprocess = transforms .\n",
      "✅ Experiment logged with ID 7.\n"
     ]
    }
   ],
   "source": [
    "%%log_experiment An image classification task using a pre-trained ResNet model.\n",
    "# Install libraries needed for this specific example\n",
    "!pip install -q torchvision Pillow\n",
    "\n",
    "import torch\n",
    "from torchvision import models, transforms\n",
    "from PIL import Image\n",
    "import urllib\n",
    "\n",
    "# 1. Load a pre-trained ResNet-18 model\n",
    "model = models.resnet18(weights='IMAGENET1K_V1')\n",
    "model.eval()\n",
    "\n",
    "# 2. Download ImageNet class labels\n",
    "urllib.request.urlretrieve(\"https://raw.githubusercontent.com/pytorch/hub/master/imagenet_classes.txt\", \"imagenet_classes.txt\")\n",
    "with open(\"imagenet_classes.txt\", \"r\") as f:\n",
    "    categories = [s.strip() for s in f.readlines()]\n",
    "\n",
    "# 3. Download a sample image\n",
    "urllib.request.urlretrieve(\"https://github.com/EliSchwartz/imagenet-sample-images/blob/master/n02099601_golden_retriever.JPEG?raw=true\", \"dog.jpg\")\n",
    "input_image = Image.open(\"dog.jpg\")\n",
    "\n",
    "# 4. Preprocess the image and get prediction\n",
    "preprocess = transforms.Compose([transforms.Resize(256), transforms.CenterCrop(224), transforms.ToTensor(),\n",
    "    transforms.Normalize(mean=[0.485, 0.456, 0.406], std=[0.229, 0.224, 0.225]),])\n",
    "input_tensor = preprocess(input_image)\n",
    "input_batch = input_tensor.unsqueeze(0)\n",
    "\n",
    "with torch.no_grad():\n",
    "    output = model(input_batch)\n",
    "\n",
    "probabilities = torch.nn.functional.softmax(output[0], dim=0)\n",
    "top_prob, top_catid = torch.topk(probabilities, 1)\n",
    "\n",
    "print(f\"Prediction: {categories[top_catid]}\")\n",
    "print(f\"Confidence: {top_prob.item():.2f}\")"
   ]
  },
  {
   "cell_type": "code",
   "execution_count": 1,
   "id": "d10c8999",
   "metadata": {},
   "outputs": [
    {
     "name": "stderr",
     "output_type": "stream",
     "text": [
      "c:\\Users\\aniru\\Desktop\\genai-lab-notebook\\.venv\\Lib\\site-packages\\tqdm\\auto.py:21: TqdmWarning: IProgress not found. Please update jupyter and ipywidgets. See https://ipywidgets.readthedocs.io/en/stable/user_install.html\n",
      "  from .autonotebook import tqdm as notebook_tqdm\n"
     ]
    },
    {
     "name": "stdout",
     "output_type": "stream",
     "text": [
      "Initializing GenAI Lab Notebook...\n",
      "Initializing LLM Interface for local summarization...\n"
     ]
    },
    {
     "name": "stderr",
     "output_type": "stream",
     "text": [
      "Device set to use cpu\n"
     ]
    },
    {
     "name": "stdout",
     "output_type": "stream",
     "text": [
      "Local summarizer ready.\n",
      "Ready to log experiments and run agent.\n",
      "\n",
      " Agent activated. Answering question: 'What Python libraries were imported in the image classification log?'\n",
      "Creating agent for the first time...\n",
      "\n",
      "\n",
      "\u001b[1m> Entering new AgentExecutor chain...\u001b[0m\n",
      "\u001b[32;1m\u001b[1;3mAction: search_lab_notebook\n",
      "Action Input: image classification log imported libraries\u001b[0m--- Agent is using Search Tool with query: image classification log imported libraries ---\n",
      "\u001b[36;1m\u001b[1;3m   id                   timestamp                                                                                                                                                                                             summary                                                                                                                                                                                                                                                                                                                                                                                                                                                                                                                                                                                                                                                                                                                                                                                                                                                                                                                                                                                                                                                                                                                                                                                                                                                                                                                                                                                                                                                                                                                                                                                                                                                                                                                                                                                                                                                                     code                                 output                                                      user_notes\n",
      "0   7  2025-10-02T02:35:05.144714                      PIL import Image import Imageimport Imageimport urllib. Load a pre-trained ResNet-18 modelmodel = models . Download a sample image and get predictionpreprocess = transforms .                                                                                                                                                                                                                                                                                                                                                                                                                                              # Install libraries needed for this specific example\\n!pip install -q torchvision Pillow\\n\\nimport torch\\nfrom torchvision import models, transforms\\nfrom PIL import Image\\nimport urllib\\n\\n# 1. Load a pre-trained ResNet-18 model\\nmodel = models.resnet18(weights='IMAGENET1K_V1')\\nmodel.eval()\\n\\n# 2. Download ImageNet class labels\\nurllib.request.urlretrieve(\"https://raw.githubusercontent.com/pytorch/hub/master/imagenet_classes.txt\", \"imagenet_classes.txt\")\\nwith open(\"imagenet_classes.txt\", \"r\") as f:\\n    categories = [s.strip() for s in f.readlines()]\\n\\n# 3. Download a sample image\\nurllib.request.urlretrieve(\"https://github.com/EliSchwartz/imagenet-sample-images/blob/master/n02099601_golden_retriever.JPEG?raw=true\", \"dog.jpg\")\\ninput_image = Image.open(\"dog.jpg\")\\n\\n# 4. Preprocess the image and get prediction\\npreprocess = transforms.Compose([transforms.Resize(256), transforms.CenterCrop(224), transforms.ToTensor(),\\n    transforms.Normalize(mean=[0.485, 0.456, 0.406], std=[0.229, 0.224, 0.225]),])\\ninput_tensor = preprocess(input_image)\\ninput_batch = input_tensor.unsqueeze(0)\\n\\nwith torch.no_grad():\\n    output = model(input_batch)\\n\\nprobabilities = torch.nn.functional.softmax(output[0], dim=0)\\ntop_prob, top_catid = torch.topk(probabilities, 1)\\n\\nprint(f\"Prediction: {categories[top_catid]}\")\\nprint(f\"Confidence: {top_prob.item():.2f}\")\\n                                   None  An image classification task using a pre-trained ResNet model.\n",
      "1   2  2025-10-01T23:50:19.775215   PIL import Imageimport Imageimport urllib. Load a pre-trained ResNet-18 model, a type of Convolutional Neural Network (CNN) model . Download ImageNet class labels:    urllIB.request.urlretrieve  # Install libraries for this example\\n!pip install -q torchvision Pillow\\n\\nimport torch\\nfrom torchvision import models, transforms\\nfrom PIL import Image\\nimport urllib\\n\\n# 1. Load a pre-trained ResNet-18 model, a type of Convolutional Neural Network (CNN)\\nmodel = models.resnet18(weights='IMAGENET1K_V1')\\nmodel.eval()\\n\\n# 2. Download ImageNet class labels\\ntry:\\n    urllib.request.urlretrieve(\"https://raw.githubusercontent.com/pytorch/hub/master/imagenet_classes.txt\", \"imagenet_classes.txt\")\\nexcept Exception as e:\\n    print(f\"Could not download labels: {e}\")\\n\\nwith open(\"imagenet_classes.txt\", \"r\") as f:\\n    categories = [s.strip() for s in f.readlines()]\\n\\n# 3. Create a dummy image to classify (e.g., a golden retriever)\\ntry:\\n    urllib.request.urlretrieve(\"https://github.com/EliSchwartz/imagenet-sample-images/blob/master/n02099601_golden_retriever.JPEG?raw=true\", \"dog.jpg\")\\n    input_image = Image.open(\"dog.jpg\")\\nexcept Exception as e:\\n    print(f\"Could not download sample image: {e}\")\\n    # Create a simple fallback image if download fails\\n    input_image = Image.new('RGB', (224, 224), color = 'red')\\n\\n# 4. Preprocess the image\\npreprocess = transforms.Compose([\\n    transforms.Resize(256),\\n    transforms.CenterCrop(224),\\n    transforms.ToTensor(),\\n    transforms.Normalize(mean=[0.485, 0.456, 0.406], std=[0.229, 0.224, 0.225]),\\n])\\ninput_tensor = preprocess(input_image)\\ninput_batch = input_tensor.unsqueeze(0) # create a mini-batch as expected by the model\\n\\n# 5. Get the prediction\\nwith torch.no_grad():\\n    output = model(input_batch)\\n\\nprobabilities = torch.nn.functional.softmax(output[0], dim=0)\\ntop_prob, top_catid = torch.topk(probabilities, 1)\\n\\nprint(f\"Prediction: {categories[top_catid]}\")\\nprint(f\"Confidence: {top_prob.item():.2f}\")\\n                                   None  An image classification task using a pre-trained ResNet model.\n",
      "2   0  2025-10-01T23:37:58.853360                                                                             PYTHON CODE: \"Python code\" PyTHON code: \"pythON code\" \"PYTHon Code\" is a word for \"pyscripted pandas\" and \"psyphphobic\"                                                                                                                                                                                                                                                                                                                                                                                                                                                                                                                                                                                                                                                                                                                                                                                                                                                                                                                                                                                                                                                                                                                                                                                                                                                                                                                                                                                                                                                                                                                                                                                                                                                                                                 import pandas as pd\\ndf = pd.DataFrame({\\n    'a': [1, 2, 3, 4, 5],\\n    'b': [10, 20, 30, 40, 50]\\n})\\nprint(\"DataFrame created. Here's the correlation:\")\\ndf.corr()\\n       a    b\\na  1.0  1.0\\nb  1.0  1.0                        Simple data analysis on a small dataset.\u001b[0m\u001b[32;1m\u001b[1;3mThe Python libraries imported in the image classification log are `torch`, `torchvision` (specifically `models` and `transforms`), `PIL` (specifically `Image`), and `urllib`.\n",
      "\n",
      "Final Answer: The Python libraries imported in the image classification log are `torch`, `torchvision`, `PIL`, and `urllib`.\u001b[0m\n",
      "\n",
      "\u001b[1m> Finished chain.\u001b[0m\n",
      "\n",
      "--- AGENT'S FINAL ANSWER ---\n",
      "The Python libraries imported in the image classification log are `torch`, `torchvision`, `PIL`, and `urllib`.\n"
     ]
    }
   ],
   "source": [
    "from genai_labnote import default_logger\n",
    "\n",
    "# Get the logger instance, which now has the agent runner\n",
    "logger_instance = default_logger()\n",
    "\n",
    "# Ask a multi-step question that requires searching and then calculating\n",
    "question = \"What Python libraries were imported in the image classification log?\"\n",
    "\n",
    "# Run the agent\n",
    "answer = logger_instance.run_agent(question)\n",
    "\n",
    "print(\"\\n--- AGENT'S FINAL ANSWER ---\")\n",
    "print(answer)"
   ]
  },
  {
   "cell_type": "code",
   "execution_count": null,
   "id": "09f4efcf",
   "metadata": {},
   "outputs": [],
   "source": []
  },
  {
   "cell_type": "code",
   "execution_count": 2,
   "id": "80c5d38a",
   "metadata": {},
   "outputs": [
    {
     "name": "stdout",
     "output_type": "stream",
     "text": [
      "--- Checking Available Gemini Models ---\n",
      "\n",
      "Models supporting the 'generateContent' method:\n",
      "  - models/gemini-2.5-pro-preview-03-25\n",
      "  - models/gemini-2.5-flash-preview-05-20\n",
      "  - models/gemini-2.5-flash\n",
      "  - models/gemini-2.5-flash-lite-preview-06-17\n",
      "  - models/gemini-2.5-pro-preview-05-06\n",
      "  - models/gemini-2.5-pro-preview-06-05\n",
      "  - models/gemini-2.5-pro\n",
      "  - models/gemini-2.0-flash-exp\n",
      "  - models/gemini-2.0-flash\n",
      "  - models/gemini-2.0-flash-001\n",
      "  - models/gemini-2.0-flash-exp-image-generation\n",
      "  - models/gemini-2.0-flash-lite-001\n",
      "  - models/gemini-2.0-flash-lite\n",
      "  - models/gemini-2.0-flash-preview-image-generation\n",
      "  - models/gemini-2.0-flash-lite-preview-02-05\n",
      "  - models/gemini-2.0-flash-lite-preview\n",
      "  - models/gemini-2.0-pro-exp\n",
      "  - models/gemini-2.0-pro-exp-02-05\n",
      "  - models/gemini-exp-1206\n",
      "  - models/gemini-2.0-flash-thinking-exp-01-21\n",
      "  - models/gemini-2.0-flash-thinking-exp\n",
      "  - models/gemini-2.0-flash-thinking-exp-1219\n",
      "  - models/gemini-2.5-flash-preview-tts\n",
      "  - models/gemini-2.5-pro-preview-tts\n",
      "  - models/learnlm-2.0-flash-experimental\n",
      "  - models/gemma-3-1b-it\n",
      "  - models/gemma-3-4b-it\n",
      "  - models/gemma-3-12b-it\n",
      "  - models/gemma-3-27b-it\n",
      "  - models/gemma-3n-e4b-it\n",
      "  - models/gemma-3n-e2b-it\n",
      "  - models/gemini-flash-latest\n",
      "  - models/gemini-flash-lite-latest\n",
      "  - models/gemini-pro-latest\n",
      "  - models/gemini-2.5-flash-lite\n",
      "  - models/gemini-2.5-flash-image-preview\n",
      "  - models/gemini-2.5-flash-preview-09-2025\n",
      "  - models/gemini-2.5-flash-lite-preview-09-2025\n",
      "  - models/gemini-robotics-er-1.5-preview\n"
     ]
    }
   ],
   "source": [
    "import os\n",
    "from dotenv import load_dotenv\n",
    "import google.generativeai as genai\n",
    "\n",
    "print(\"--- Checking Available Gemini Models ---\")\n",
    "\n",
    "try:\n",
    "    # 1. Load the .env file to get the API Key\n",
    "    load_dotenv()\n",
    "    api_key = os.getenv(\"GEMINI_API_KEY\")\n",
    "\n",
    "    if not api_key:\n",
    "        raise ValueError(\"GEMINI_API_KEY not found. Please ensure your .env file is set up.\")\n",
    "\n",
    "    # 2. Configure the library with your key\n",
    "    genai.configure(api_key=api_key)\n",
    "\n",
    "    # 3. List all models and filter for the ones that can generate content\n",
    "    print(\"\\nModels supporting the 'generateContent' method:\")\n",
    "    model_count = 0\n",
    "    for model in genai.list_models():\n",
    "        if 'generateContent' in model.supported_generation_methods:\n",
    "            print(f\"  - {model.name}\")\n",
    "            model_count += 1\n",
    "    \n",
    "    if model_count == 0:\n",
    "        print(\"No models supporting 'generateContent' found. This might indicate an issue with your API key or permissions.\")\n",
    "\n",
    "except Exception as e:\n",
    "    print(f\"\\nAn error occurred: {e}\")"
   ]
  }
 ],
 "metadata": {
  "kernelspec": {
   "display_name": ".venv",
   "language": "python",
   "name": "python3"
  },
  "language_info": {
   "codemirror_mode": {
    "name": "ipython",
    "version": 3
   },
   "file_extension": ".py",
   "mimetype": "text/x-python",
   "name": "python",
   "nbconvert_exporter": "python",
   "pygments_lexer": "ipython3",
   "version": "3.13.7"
  }
 },
 "nbformat": 4,
 "nbformat_minor": 5
}
