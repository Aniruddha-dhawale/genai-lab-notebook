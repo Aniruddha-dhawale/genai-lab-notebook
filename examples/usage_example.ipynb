{
 "cells": [
  {
   "cell_type": "code",
   "execution_count": 3,
   "id": "bdf62060",
   "metadata": {},
   "outputs": [
    {
     "name": "stdout",
     "output_type": "stream",
     "text": [
      "Obtaining file:///C:/Users/aniru/Desktop/genai-lab-notebook\n",
      "  Installing build dependencies: started\n",
      "  Installing build dependencies: finished with status 'done'\n",
      "  Checking if build backend supports build_editable: started\n",
      "  Checking if build backend supports build_editable: finished with status 'done'\n",
      "  Getting requirements to build editable: started\n",
      "  Getting requirements to build editable: finished with status 'done'\n",
      "  Preparing editable metadata (pyproject.toml): started\n",
      "  Preparing editable metadata (pyproject.toml): finished with status 'done'\n",
      "Requirement already satisfied: ipython in c:\\users\\aniru\\desktop\\genai-lab-notebook\\.venv\\lib\\site-packages (from genai_labnote==0.1.0) (9.6.0)\n",
      "Requirement already satisfied: pandas in c:\\users\\aniru\\desktop\\genai-lab-notebook\\.venv\\lib\\site-packages (from genai_labnote==0.1.0) (2.3.3)\n",
      "Requirement already satisfied: faiss-cpu in c:\\users\\aniru\\desktop\\genai-lab-notebook\\.venv\\lib\\site-packages (from genai_labnote==0.1.0) (1.12.0)\n",
      "Requirement already satisfied: sentence-transformers in c:\\users\\aniru\\desktop\\genai-lab-notebook\\.venv\\lib\\site-packages (from genai_labnote==0.1.0) (5.1.1)\n",
      "Requirement already satisfied: torch in c:\\users\\aniru\\desktop\\genai-lab-notebook\\.venv\\lib\\site-packages (from genai_labnote==0.1.0) (2.8.0)\n",
      "Requirement already satisfied: transformers[torch] in c:\\users\\aniru\\desktop\\genai-lab-notebook\\.venv\\lib\\site-packages (from genai_labnote==0.1.0) (4.56.2)\n",
      "Requirement already satisfied: accelerate in c:\\users\\aniru\\desktop\\genai-lab-notebook\\.venv\\lib\\site-packages (from genai_labnote==0.1.0) (1.10.1)\n",
      "Requirement already satisfied: google-generativeai in c:\\users\\aniru\\desktop\\genai-lab-notebook\\.venv\\lib\\site-packages (from genai_labnote==0.1.0) (0.8.5)\n",
      "Requirement already satisfied: langchain in c:\\users\\aniru\\desktop\\genai-lab-notebook\\.venv\\lib\\site-packages (from genai_labnote==0.1.0) (0.3.27)\n",
      "Requirement already satisfied: langchain-google-genai in c:\\users\\aniru\\desktop\\genai-lab-notebook\\.venv\\lib\\site-packages (from genai_labnote==0.1.0) (2.0.10)\n",
      "Requirement already satisfied: langchain_experimental in c:\\users\\aniru\\desktop\\genai-lab-notebook\\.venv\\lib\\site-packages (from genai_labnote==0.1.0) (0.3.4)\n",
      "Requirement already satisfied: python-dotenv in c:\\users\\aniru\\desktop\\genai-lab-notebook\\.venv\\lib\\site-packages (from genai_labnote==0.1.0) (1.1.1)\n",
      "Requirement already satisfied: numpy<3.0.0,>=1.17 in c:\\users\\aniru\\desktop\\genai-lab-notebook\\.venv\\lib\\site-packages (from accelerate->genai_labnote==0.1.0) (2.3.3)\n",
      "Requirement already satisfied: packaging>=20.0 in c:\\users\\aniru\\desktop\\genai-lab-notebook\\.venv\\lib\\site-packages (from accelerate->genai_labnote==0.1.0) (25.0)\n",
      "Requirement already satisfied: psutil in c:\\users\\aniru\\desktop\\genai-lab-notebook\\.venv\\lib\\site-packages (from accelerate->genai_labnote==0.1.0) (7.1.0)\n",
      "Requirement already satisfied: pyyaml in c:\\users\\aniru\\desktop\\genai-lab-notebook\\.venv\\lib\\site-packages (from accelerate->genai_labnote==0.1.0) (6.0.3)\n",
      "Requirement already satisfied: huggingface_hub>=0.21.0 in c:\\users\\aniru\\desktop\\genai-lab-notebook\\.venv\\lib\\site-packages (from accelerate->genai_labnote==0.1.0) (0.35.3)\n",
      "Requirement already satisfied: safetensors>=0.4.3 in c:\\users\\aniru\\desktop\\genai-lab-notebook\\.venv\\lib\\site-packages (from accelerate->genai_labnote==0.1.0) (0.6.2)\n",
      "Requirement already satisfied: filelock in c:\\users\\aniru\\desktop\\genai-lab-notebook\\.venv\\lib\\site-packages (from huggingface_hub>=0.21.0->accelerate->genai_labnote==0.1.0) (3.19.1)\n",
      "Requirement already satisfied: fsspec>=2023.5.0 in c:\\users\\aniru\\desktop\\genai-lab-notebook\\.venv\\lib\\site-packages (from huggingface_hub>=0.21.0->accelerate->genai_labnote==0.1.0) (2025.9.0)\n",
      "Requirement already satisfied: requests in c:\\users\\aniru\\desktop\\genai-lab-notebook\\.venv\\lib\\site-packages (from huggingface_hub>=0.21.0->accelerate->genai_labnote==0.1.0) (2.32.5)\n",
      "Requirement already satisfied: tqdm>=4.42.1 in c:\\users\\aniru\\desktop\\genai-lab-notebook\\.venv\\lib\\site-packages (from huggingface_hub>=0.21.0->accelerate->genai_labnote==0.1.0) (4.67.1)\n",
      "Requirement already satisfied: typing-extensions>=3.7.4.3 in c:\\users\\aniru\\desktop\\genai-lab-notebook\\.venv\\lib\\site-packages (from huggingface_hub>=0.21.0->accelerate->genai_labnote==0.1.0) (4.15.0)\n",
      "Requirement already satisfied: sympy>=1.13.3 in c:\\users\\aniru\\desktop\\genai-lab-notebook\\.venv\\lib\\site-packages (from torch->genai_labnote==0.1.0) (1.14.0)\n",
      "Requirement already satisfied: networkx in c:\\users\\aniru\\desktop\\genai-lab-notebook\\.venv\\lib\\site-packages (from torch->genai_labnote==0.1.0) (3.5)\n",
      "Requirement already satisfied: jinja2 in c:\\users\\aniru\\desktop\\genai-lab-notebook\\.venv\\lib\\site-packages (from torch->genai_labnote==0.1.0) (3.1.6)\n",
      "Requirement already satisfied: setuptools in c:\\users\\aniru\\desktop\\genai-lab-notebook\\.venv\\lib\\site-packages (from torch->genai_labnote==0.1.0) (80.9.0)\n",
      "Requirement already satisfied: mpmath<1.4,>=1.1.0 in c:\\users\\aniru\\desktop\\genai-lab-notebook\\.venv\\lib\\site-packages (from sympy>=1.13.3->torch->genai_labnote==0.1.0) (1.3.0)\n",
      "Requirement already satisfied: colorama in c:\\users\\aniru\\desktop\\genai-lab-notebook\\.venv\\lib\\site-packages (from tqdm>=4.42.1->huggingface_hub>=0.21.0->accelerate->genai_labnote==0.1.0) (0.4.6)\n",
      "Requirement already satisfied: google-ai-generativelanguage==0.6.15 in c:\\users\\aniru\\desktop\\genai-lab-notebook\\.venv\\lib\\site-packages (from google-generativeai->genai_labnote==0.1.0) (0.6.15)\n",
      "Requirement already satisfied: google-api-core in c:\\users\\aniru\\desktop\\genai-lab-notebook\\.venv\\lib\\site-packages (from google-generativeai->genai_labnote==0.1.0) (2.25.1)\n",
      "Requirement already satisfied: google-api-python-client in c:\\users\\aniru\\desktop\\genai-lab-notebook\\.venv\\lib\\site-packages (from google-generativeai->genai_labnote==0.1.0) (2.183.0)\n",
      "Requirement already satisfied: google-auth>=2.15.0 in c:\\users\\aniru\\desktop\\genai-lab-notebook\\.venv\\lib\\site-packages (from google-generativeai->genai_labnote==0.1.0) (2.41.1)\n",
      "Requirement already satisfied: protobuf in c:\\users\\aniru\\desktop\\genai-lab-notebook\\.venv\\lib\\site-packages (from google-generativeai->genai_labnote==0.1.0) (5.29.5)\n",
      "Requirement already satisfied: pydantic in c:\\users\\aniru\\desktop\\genai-lab-notebook\\.venv\\lib\\site-packages (from google-generativeai->genai_labnote==0.1.0) (2.11.9)\n",
      "Requirement already satisfied: proto-plus<2.0.0dev,>=1.22.3 in c:\\users\\aniru\\desktop\\genai-lab-notebook\\.venv\\lib\\site-packages (from google-ai-generativelanguage==0.6.15->google-generativeai->genai_labnote==0.1.0) (1.26.1)\n",
      "Requirement already satisfied: googleapis-common-protos<2.0.0,>=1.56.2 in c:\\users\\aniru\\desktop\\genai-lab-notebook\\.venv\\lib\\site-packages (from google-api-core->google-generativeai->genai_labnote==0.1.0) (1.70.0)\n",
      "Requirement already satisfied: grpcio<2.0.0,>=1.33.2 in c:\\users\\aniru\\desktop\\genai-lab-notebook\\.venv\\lib\\site-packages (from google-api-core[grpc]!=2.0.*,!=2.1.*,!=2.10.*,!=2.2.*,!=2.3.*,!=2.4.*,!=2.5.*,!=2.6.*,!=2.7.*,!=2.8.*,!=2.9.*,<3.0.0dev,>=1.34.1->google-ai-generativelanguage==0.6.15->google-generativeai->genai_labnote==0.1.0) (1.75.1)\n",
      "Requirement already satisfied: grpcio-status<2.0.0,>=1.33.2 in c:\\users\\aniru\\desktop\\genai-lab-notebook\\.venv\\lib\\site-packages (from google-api-core[grpc]!=2.0.*,!=2.1.*,!=2.10.*,!=2.2.*,!=2.3.*,!=2.4.*,!=2.5.*,!=2.6.*,!=2.7.*,!=2.8.*,!=2.9.*,<3.0.0dev,>=1.34.1->google-ai-generativelanguage==0.6.15->google-generativeai->genai_labnote==0.1.0) (1.71.2)\n",
      "Requirement already satisfied: cachetools<7.0,>=2.0.0 in c:\\users\\aniru\\desktop\\genai-lab-notebook\\.venv\\lib\\site-packages (from google-auth>=2.15.0->google-generativeai->genai_labnote==0.1.0) (6.2.0)\n",
      "Requirement already satisfied: pyasn1-modules>=0.2.1 in c:\\users\\aniru\\desktop\\genai-lab-notebook\\.venv\\lib\\site-packages (from google-auth>=2.15.0->google-generativeai->genai_labnote==0.1.0) (0.4.2)\n",
      "Requirement already satisfied: rsa<5,>=3.1.4 in c:\\users\\aniru\\desktop\\genai-lab-notebook\\.venv\\lib\\site-packages (from google-auth>=2.15.0->google-generativeai->genai_labnote==0.1.0) (4.9.1)\n",
      "Requirement already satisfied: charset_normalizer<4,>=2 in c:\\users\\aniru\\desktop\\genai-lab-notebook\\.venv\\lib\\site-packages (from requests->huggingface_hub>=0.21.0->accelerate->genai_labnote==0.1.0) (3.4.3)\n",
      "Requirement already satisfied: idna<4,>=2.5 in c:\\users\\aniru\\desktop\\genai-lab-notebook\\.venv\\lib\\site-packages (from requests->huggingface_hub>=0.21.0->accelerate->genai_labnote==0.1.0) (3.10)\n",
      "Requirement already satisfied: urllib3<3,>=1.21.1 in c:\\users\\aniru\\desktop\\genai-lab-notebook\\.venv\\lib\\site-packages (from requests->huggingface_hub>=0.21.0->accelerate->genai_labnote==0.1.0) (2.5.0)\n",
      "Requirement already satisfied: certifi>=2017.4.17 in c:\\users\\aniru\\desktop\\genai-lab-notebook\\.venv\\lib\\site-packages (from requests->huggingface_hub>=0.21.0->accelerate->genai_labnote==0.1.0) (2025.8.3)\n",
      "Requirement already satisfied: pyasn1>=0.1.3 in c:\\users\\aniru\\desktop\\genai-lab-notebook\\.venv\\lib\\site-packages (from rsa<5,>=3.1.4->google-auth>=2.15.0->google-generativeai->genai_labnote==0.1.0) (0.6.1)\n",
      "Requirement already satisfied: httplib2<1.0.0,>=0.19.0 in c:\\users\\aniru\\desktop\\genai-lab-notebook\\.venv\\lib\\site-packages (from google-api-python-client->google-generativeai->genai_labnote==0.1.0) (0.31.0)\n",
      "Requirement already satisfied: google-auth-httplib2<1.0.0,>=0.2.0 in c:\\users\\aniru\\desktop\\genai-lab-notebook\\.venv\\lib\\site-packages (from google-api-python-client->google-generativeai->genai_labnote==0.1.0) (0.2.0)\n",
      "Requirement already satisfied: uritemplate<5,>=3.0.1 in c:\\users\\aniru\\desktop\\genai-lab-notebook\\.venv\\lib\\site-packages (from google-api-python-client->google-generativeai->genai_labnote==0.1.0) (4.2.0)\n",
      "Requirement already satisfied: pyparsing<4,>=3.0.4 in c:\\users\\aniru\\desktop\\genai-lab-notebook\\.venv\\lib\\site-packages (from httplib2<1.0.0,>=0.19.0->google-api-python-client->google-generativeai->genai_labnote==0.1.0) (3.2.5)\n",
      "Requirement already satisfied: decorator in c:\\users\\aniru\\desktop\\genai-lab-notebook\\.venv\\lib\\site-packages (from ipython->genai_labnote==0.1.0) (5.2.1)\n",
      "Requirement already satisfied: ipython-pygments-lexers in c:\\users\\aniru\\desktop\\genai-lab-notebook\\.venv\\lib\\site-packages (from ipython->genai_labnote==0.1.0) (1.1.1)\n",
      "Requirement already satisfied: jedi>=0.16 in c:\\users\\aniru\\desktop\\genai-lab-notebook\\.venv\\lib\\site-packages (from ipython->genai_labnote==0.1.0) (0.19.2)\n",
      "Requirement already satisfied: matplotlib-inline in c:\\users\\aniru\\desktop\\genai-lab-notebook\\.venv\\lib\\site-packages (from ipython->genai_labnote==0.1.0) (0.1.7)\n",
      "Requirement already satisfied: prompt_toolkit<3.1.0,>=3.0.41 in c:\\users\\aniru\\desktop\\genai-lab-notebook\\.venv\\lib\\site-packages (from ipython->genai_labnote==0.1.0) (3.0.52)\n",
      "Requirement already satisfied: pygments>=2.4.0 in c:\\users\\aniru\\desktop\\genai-lab-notebook\\.venv\\lib\\site-packages (from ipython->genai_labnote==0.1.0) (2.19.2)\n",
      "Requirement already satisfied: stack_data in c:\\users\\aniru\\desktop\\genai-lab-notebook\\.venv\\lib\\site-packages (from ipython->genai_labnote==0.1.0) (0.6.3)\n",
      "Requirement already satisfied: traitlets>=5.13.0 in c:\\users\\aniru\\desktop\\genai-lab-notebook\\.venv\\lib\\site-packages (from ipython->genai_labnote==0.1.0) (5.14.3)\n",
      "Requirement already satisfied: wcwidth in c:\\users\\aniru\\desktop\\genai-lab-notebook\\.venv\\lib\\site-packages (from prompt_toolkit<3.1.0,>=3.0.41->ipython->genai_labnote==0.1.0) (0.2.14)\n",
      "Requirement already satisfied: parso<0.9.0,>=0.8.4 in c:\\users\\aniru\\desktop\\genai-lab-notebook\\.venv\\lib\\site-packages (from jedi>=0.16->ipython->genai_labnote==0.1.0) (0.8.5)\n",
      "Requirement already satisfied: MarkupSafe>=2.0 in c:\\users\\aniru\\desktop\\genai-lab-notebook\\.venv\\lib\\site-packages (from jinja2->torch->genai_labnote==0.1.0) (3.0.3)\n",
      "Requirement already satisfied: langchain-core<1.0.0,>=0.3.72 in c:\\users\\aniru\\desktop\\genai-lab-notebook\\.venv\\lib\\site-packages (from langchain->genai_labnote==0.1.0) (0.3.77)\n",
      "Requirement already satisfied: langchain-text-splitters<1.0.0,>=0.3.9 in c:\\users\\aniru\\desktop\\genai-lab-notebook\\.venv\\lib\\site-packages (from langchain->genai_labnote==0.1.0) (0.3.11)\n",
      "Requirement already satisfied: langsmith>=0.1.17 in c:\\users\\aniru\\desktop\\genai-lab-notebook\\.venv\\lib\\site-packages (from langchain->genai_labnote==0.1.0) (0.4.31)\n",
      "Requirement already satisfied: SQLAlchemy<3,>=1.4 in c:\\users\\aniru\\desktop\\genai-lab-notebook\\.venv\\lib\\site-packages (from langchain->genai_labnote==0.1.0) (2.0.43)\n",
      "Requirement already satisfied: tenacity!=8.4.0,<10.0.0,>=8.1.0 in c:\\users\\aniru\\desktop\\genai-lab-notebook\\.venv\\lib\\site-packages (from langchain-core<1.0.0,>=0.3.72->langchain->genai_labnote==0.1.0) (9.1.2)\n",
      "Requirement already satisfied: jsonpatch<2.0.0,>=1.33.0 in c:\\users\\aniru\\desktop\\genai-lab-notebook\\.venv\\lib\\site-packages (from langchain-core<1.0.0,>=0.3.72->langchain->genai_labnote==0.1.0) (1.33)\n",
      "Requirement already satisfied: jsonpointer>=1.9 in c:\\users\\aniru\\desktop\\genai-lab-notebook\\.venv\\lib\\site-packages (from jsonpatch<2.0.0,>=1.33.0->langchain-core<1.0.0,>=0.3.72->langchain->genai_labnote==0.1.0) (3.0.0)\n",
      "Requirement already satisfied: httpx<1,>=0.23.0 in c:\\users\\aniru\\desktop\\genai-lab-notebook\\.venv\\lib\\site-packages (from langsmith>=0.1.17->langchain->genai_labnote==0.1.0) (0.28.1)\n",
      "Requirement already satisfied: orjson>=3.9.14 in c:\\users\\aniru\\desktop\\genai-lab-notebook\\.venv\\lib\\site-packages (from langsmith>=0.1.17->langchain->genai_labnote==0.1.0) (3.11.3)\n",
      "Requirement already satisfied: requests-toolbelt>=1.0.0 in c:\\users\\aniru\\desktop\\genai-lab-notebook\\.venv\\lib\\site-packages (from langsmith>=0.1.17->langchain->genai_labnote==0.1.0) (1.0.0)\n",
      "Requirement already satisfied: zstandard>=0.23.0 in c:\\users\\aniru\\desktop\\genai-lab-notebook\\.venv\\lib\\site-packages (from langsmith>=0.1.17->langchain->genai_labnote==0.1.0) (0.25.0)\n",
      "Requirement already satisfied: anyio in c:\\users\\aniru\\desktop\\genai-lab-notebook\\.venv\\lib\\site-packages (from httpx<1,>=0.23.0->langsmith>=0.1.17->langchain->genai_labnote==0.1.0) (4.11.0)\n",
      "Requirement already satisfied: httpcore==1.* in c:\\users\\aniru\\desktop\\genai-lab-notebook\\.venv\\lib\\site-packages (from httpx<1,>=0.23.0->langsmith>=0.1.17->langchain->genai_labnote==0.1.0) (1.0.9)\n",
      "Requirement already satisfied: h11>=0.16 in c:\\users\\aniru\\desktop\\genai-lab-notebook\\.venv\\lib\\site-packages (from httpcore==1.*->httpx<1,>=0.23.0->langsmith>=0.1.17->langchain->genai_labnote==0.1.0) (0.16.0)\n",
      "Requirement already satisfied: annotated-types>=0.6.0 in c:\\users\\aniru\\desktop\\genai-lab-notebook\\.venv\\lib\\site-packages (from pydantic->google-generativeai->genai_labnote==0.1.0) (0.7.0)\n",
      "Requirement already satisfied: pydantic-core==2.33.2 in c:\\users\\aniru\\desktop\\genai-lab-notebook\\.venv\\lib\\site-packages (from pydantic->google-generativeai->genai_labnote==0.1.0) (2.33.2)\n",
      "Requirement already satisfied: typing-inspection>=0.4.0 in c:\\users\\aniru\\desktop\\genai-lab-notebook\\.venv\\lib\\site-packages (from pydantic->google-generativeai->genai_labnote==0.1.0) (0.4.2)\n",
      "Requirement already satisfied: greenlet>=1 in c:\\users\\aniru\\desktop\\genai-lab-notebook\\.venv\\lib\\site-packages (from SQLAlchemy<3,>=1.4->langchain->genai_labnote==0.1.0) (3.2.4)\n",
      "Requirement already satisfied: sniffio>=1.1 in c:\\users\\aniru\\desktop\\genai-lab-notebook\\.venv\\lib\\site-packages (from anyio->httpx<1,>=0.23.0->langsmith>=0.1.17->langchain->genai_labnote==0.1.0) (1.3.1)\n",
      "Requirement already satisfied: langchain-community<0.4.0,>=0.3.0 in c:\\users\\aniru\\desktop\\genai-lab-notebook\\.venv\\lib\\site-packages (from langchain_experimental->genai_labnote==0.1.0) (0.3.30)\n",
      "Requirement already satisfied: aiohttp<4.0.0,>=3.8.3 in c:\\users\\aniru\\desktop\\genai-lab-notebook\\.venv\\lib\\site-packages (from langchain-community<0.4.0,>=0.3.0->langchain_experimental->genai_labnote==0.1.0) (3.12.15)\n",
      "Requirement already satisfied: dataclasses-json<0.7.0,>=0.6.7 in c:\\users\\aniru\\desktop\\genai-lab-notebook\\.venv\\lib\\site-packages (from langchain-community<0.4.0,>=0.3.0->langchain_experimental->genai_labnote==0.1.0) (0.6.7)\n",
      "Requirement already satisfied: pydantic-settings<3.0.0,>=2.10.1 in c:\\users\\aniru\\desktop\\genai-lab-notebook\\.venv\\lib\\site-packages (from langchain-community<0.4.0,>=0.3.0->langchain_experimental->genai_labnote==0.1.0) (2.11.0)\n",
      "Requirement already satisfied: httpx-sse<1.0.0,>=0.4.0 in c:\\users\\aniru\\desktop\\genai-lab-notebook\\.venv\\lib\\site-packages (from langchain-community<0.4.0,>=0.3.0->langchain_experimental->genai_labnote==0.1.0) (0.4.1)\n",
      "Requirement already satisfied: aiohappyeyeballs>=2.5.0 in c:\\users\\aniru\\desktop\\genai-lab-notebook\\.venv\\lib\\site-packages (from aiohttp<4.0.0,>=3.8.3->langchain-community<0.4.0,>=0.3.0->langchain_experimental->genai_labnote==0.1.0) (2.6.1)\n",
      "Requirement already satisfied: aiosignal>=1.4.0 in c:\\users\\aniru\\desktop\\genai-lab-notebook\\.venv\\lib\\site-packages (from aiohttp<4.0.0,>=3.8.3->langchain-community<0.4.0,>=0.3.0->langchain_experimental->genai_labnote==0.1.0) (1.4.0)\n",
      "Requirement already satisfied: attrs>=17.3.0 in c:\\users\\aniru\\desktop\\genai-lab-notebook\\.venv\\lib\\site-packages (from aiohttp<4.0.0,>=3.8.3->langchain-community<0.4.0,>=0.3.0->langchain_experimental->genai_labnote==0.1.0) (25.3.0)\n",
      "Requirement already satisfied: frozenlist>=1.1.1 in c:\\users\\aniru\\desktop\\genai-lab-notebook\\.venv\\lib\\site-packages (from aiohttp<4.0.0,>=3.8.3->langchain-community<0.4.0,>=0.3.0->langchain_experimental->genai_labnote==0.1.0) (1.7.0)\n",
      "Requirement already satisfied: multidict<7.0,>=4.5 in c:\\users\\aniru\\desktop\\genai-lab-notebook\\.venv\\lib\\site-packages (from aiohttp<4.0.0,>=3.8.3->langchain-community<0.4.0,>=0.3.0->langchain_experimental->genai_labnote==0.1.0) (6.6.4)\n",
      "Requirement already satisfied: propcache>=0.2.0 in c:\\users\\aniru\\desktop\\genai-lab-notebook\\.venv\\lib\\site-packages (from aiohttp<4.0.0,>=3.8.3->langchain-community<0.4.0,>=0.3.0->langchain_experimental->genai_labnote==0.1.0) (0.3.2)\n",
      "Requirement already satisfied: yarl<2.0,>=1.17.0 in c:\\users\\aniru\\desktop\\genai-lab-notebook\\.venv\\lib\\site-packages (from aiohttp<4.0.0,>=3.8.3->langchain-community<0.4.0,>=0.3.0->langchain_experimental->genai_labnote==0.1.0) (1.20.1)\n",
      "Requirement already satisfied: marshmallow<4.0.0,>=3.18.0 in c:\\users\\aniru\\desktop\\genai-lab-notebook\\.venv\\lib\\site-packages (from dataclasses-json<0.7.0,>=0.6.7->langchain-community<0.4.0,>=0.3.0->langchain_experimental->genai_labnote==0.1.0) (3.26.1)\n",
      "Requirement already satisfied: typing-inspect<1,>=0.4.0 in c:\\users\\aniru\\desktop\\genai-lab-notebook\\.venv\\lib\\site-packages (from dataclasses-json<0.7.0,>=0.6.7->langchain-community<0.4.0,>=0.3.0->langchain_experimental->genai_labnote==0.1.0) (0.9.0)\n",
      "Requirement already satisfied: mypy-extensions>=0.3.0 in c:\\users\\aniru\\desktop\\genai-lab-notebook\\.venv\\lib\\site-packages (from typing-inspect<1,>=0.4.0->dataclasses-json<0.7.0,>=0.6.7->langchain-community<0.4.0,>=0.3.0->langchain_experimental->genai_labnote==0.1.0) (1.1.0)\n",
      "Requirement already satisfied: filetype<2.0.0,>=1.2.0 in c:\\users\\aniru\\desktop\\genai-lab-notebook\\.venv\\lib\\site-packages (from langchain-google-genai->genai_labnote==0.1.0) (1.2.0)\n",
      "Requirement already satisfied: python-dateutil>=2.8.2 in c:\\users\\aniru\\desktop\\genai-lab-notebook\\.venv\\lib\\site-packages (from pandas->genai_labnote==0.1.0) (2.9.0.post0)\n",
      "Requirement already satisfied: pytz>=2020.1 in c:\\users\\aniru\\desktop\\genai-lab-notebook\\.venv\\lib\\site-packages (from pandas->genai_labnote==0.1.0) (2025.2)\n",
      "Requirement already satisfied: tzdata>=2022.7 in c:\\users\\aniru\\desktop\\genai-lab-notebook\\.venv\\lib\\site-packages (from pandas->genai_labnote==0.1.0) (2025.2)\n",
      "Requirement already satisfied: six>=1.5 in c:\\users\\aniru\\desktop\\genai-lab-notebook\\.venv\\lib\\site-packages (from python-dateutil>=2.8.2->pandas->genai_labnote==0.1.0) (1.17.0)\n",
      "Requirement already satisfied: scikit-learn in c:\\users\\aniru\\desktop\\genai-lab-notebook\\.venv\\lib\\site-packages (from sentence-transformers->genai_labnote==0.1.0) (1.7.2)\n",
      "Requirement already satisfied: scipy in c:\\users\\aniru\\desktop\\genai-lab-notebook\\.venv\\lib\\site-packages (from sentence-transformers->genai_labnote==0.1.0) (1.16.2)\n",
      "Requirement already satisfied: Pillow in c:\\users\\aniru\\desktop\\genai-lab-notebook\\.venv\\lib\\site-packages (from sentence-transformers->genai_labnote==0.1.0) (11.3.0)\n",
      "Requirement already satisfied: regex!=2019.12.17 in c:\\users\\aniru\\desktop\\genai-lab-notebook\\.venv\\lib\\site-packages (from transformers[torch]->genai_labnote==0.1.0) (2025.9.18)\n",
      "Requirement already satisfied: tokenizers<=0.23.0,>=0.22.0 in c:\\users\\aniru\\desktop\\genai-lab-notebook\\.venv\\lib\\site-packages (from transformers[torch]->genai_labnote==0.1.0) (0.22.1)\n",
      "Requirement already satisfied: joblib>=1.2.0 in c:\\users\\aniru\\desktop\\genai-lab-notebook\\.venv\\lib\\site-packages (from scikit-learn->sentence-transformers->genai_labnote==0.1.0) (1.5.2)\n",
      "Requirement already satisfied: threadpoolctl>=3.1.0 in c:\\users\\aniru\\desktop\\genai-lab-notebook\\.venv\\lib\\site-packages (from scikit-learn->sentence-transformers->genai_labnote==0.1.0) (3.6.0)\n",
      "Requirement already satisfied: executing>=1.2.0 in c:\\users\\aniru\\desktop\\genai-lab-notebook\\.venv\\lib\\site-packages (from stack_data->ipython->genai_labnote==0.1.0) (2.2.1)\n",
      "Requirement already satisfied: asttokens>=2.1.0 in c:\\users\\aniru\\desktop\\genai-lab-notebook\\.venv\\lib\\site-packages (from stack_data->ipython->genai_labnote==0.1.0) (3.0.0)\n",
      "Requirement already satisfied: pure-eval in c:\\users\\aniru\\desktop\\genai-lab-notebook\\.venv\\lib\\site-packages (from stack_data->ipython->genai_labnote==0.1.0) (0.2.3)\n",
      "Building wheels for collected packages: genai_labnote\n",
      "  Building editable for genai_labnote (pyproject.toml): started\n",
      "  Building editable for genai_labnote (pyproject.toml): finished with status 'done'\n",
      "  Created wheel for genai_labnote: filename=genai_labnote-0.1.0-0.editable-py3-none-any.whl size=1880 sha256=3feadc721dd48593320c6abe96b039cfd1856e6bc35107b2459c0a9e966ad557\n",
      "  Stored in directory: C:\\Users\\aniru\\AppData\\Local\\Temp\\pip-ephem-wheel-cache-d0xn238_\\wheels\\41\\8e\\80\\cc610c5f238e3da82fe2c12b17b6e769b35a11e5ea3ab88b63\n",
      "Successfully built genai_labnote\n",
      "Installing collected packages: genai_labnote\n",
      "  Attempting uninstall: genai_labnote\n",
      "    Found existing installation: genai_labnote 0.1.0\n",
      "    Uninstalling genai_labnote-0.1.0:\n",
      "      Successfully uninstalled genai_labnote-0.1.0\n",
      "Successfully installed genai_labnote-0.1.0\n"
     ]
    }
   ],
   "source": [
    "# Install the package (if not installed)\n",
    "# In a real scenario, you'd install from PyPI: !pip install genai_labnote\n",
    "# For local testing, we install from the current directory\n",
    "!pip install -e .."
   ]
  },
  {
   "cell_type": "code",
   "execution_count": 1,
   "id": "72087dc8",
   "metadata": {},
   "outputs": [
    {
     "name": "stdout",
     "output_type": "stream",
     "text": [
      "✅ .env file loaded.\n"
     ]
    }
   ],
   "source": [
    "from dotenv import load_dotenv\n",
    "\n",
    "# This loads the GEMINI_API_KEY from your .env file\n",
    "load_dotenv()\n",
    "print(\"✅ .env file loaded.\")"
   ]
  },
  {
   "cell_type": "code",
   "execution_count": 2,
   "id": "62a5932d",
   "metadata": {},
   "outputs": [
    {
     "name": "stderr",
     "output_type": "stream",
     "text": [
      "c:\\Users\\aniru\\Desktop\\genai-lab-notebook\\.venv\\Lib\\site-packages\\tqdm\\auto.py:21: TqdmWarning: IProgress not found. Please update jupyter and ipywidgets. See https://ipywidgets.readthedocs.io/en/stable/user_install.html\n",
      "  from .autonotebook import tqdm as notebook_tqdm\n"
     ]
    }
   ],
   "source": [
    "# Load the magic command extension\n",
    "%load_ext genai_labnote"
   ]
  },
  {
   "cell_type": "code",
   "execution_count": 4,
   "id": "5b59b345",
   "metadata": {},
   "outputs": [
    {
     "name": "stdout",
     "output_type": "stream",
     "text": [
      "Initializing GenAI Lab Notebook...\n",
      "Initializing LLM Interface for local summarization...\n"
     ]
    },
    {
     "name": "stderr",
     "output_type": "stream",
     "text": [
      "Device set to use cpu\n"
     ]
    },
    {
     "name": "stdout",
     "output_type": "stream",
     "text": [
      "Local summarizer ready.\n",
      "Ready to log experiments and run agent.\n",
      "DataFrame created. Here's the correlation:\n"
     ]
    },
    {
     "data": {
      "text/html": [
       "<div>\n",
       "<style scoped>\n",
       "    .dataframe tbody tr th:only-of-type {\n",
       "        vertical-align: middle;\n",
       "    }\n",
       "\n",
       "    .dataframe tbody tr th {\n",
       "        vertical-align: top;\n",
       "    }\n",
       "\n",
       "    .dataframe thead th {\n",
       "        text-align: right;\n",
       "    }\n",
       "</style>\n",
       "<table border=\"1\" class=\"dataframe\">\n",
       "  <thead>\n",
       "    <tr style=\"text-align: right;\">\n",
       "      <th></th>\n",
       "      <th>a</th>\n",
       "      <th>b</th>\n",
       "    </tr>\n",
       "  </thead>\n",
       "  <tbody>\n",
       "    <tr>\n",
       "      <th>a</th>\n",
       "      <td>1.0</td>\n",
       "      <td>1.0</td>\n",
       "    </tr>\n",
       "    <tr>\n",
       "      <th>b</th>\n",
       "      <td>1.0</td>\n",
       "      <td>1.0</td>\n",
       "    </tr>\n",
       "  </tbody>\n",
       "</table>\n",
       "</div>"
      ],
      "text/plain": [
       "     a    b\n",
       "a  1.0  1.0\n",
       "b  1.0  1.0"
      ]
     },
     "execution_count": 4,
     "metadata": {},
     "output_type": "execute_result"
    },
    {
     "name": "stdout",
     "output_type": "stream",
     "text": [
      "\n",
      "🚀 Starting new log entry...\n",
      "🧠 Generated Summary:  PYTHON CODE: \"Python code\" PyTHON code: \"pythON code\" \"PYTHon Code\" is a word for \"pyscripted pandas\" and \"psyphphobic\"\n",
      "✅ Experiment logged with ID 3.\n"
     ]
    }
   ],
   "source": [
    "%%log_experiment Simple data analysis on a small dataset.\n",
    "import pandas as pd\n",
    "df = pd.DataFrame({\n",
    "    'a': [1, 2, 3, 4, 5],\n",
    "    'b': [10, 20, 30, 40, 50]\n",
    "})\n",
    "print(\"DataFrame created. Here's the correlation:\")\n",
    "df.corr()"
   ]
  },
  {
   "cell_type": "code",
   "execution_count": 5,
   "id": "4c6520cd",
   "metadata": {},
   "outputs": [
    {
     "name": "stdout",
     "output_type": "stream",
     "text": [
      "Model coefficient: 0.6\n",
      "Model intercept: 2.2\n",
      "\n",
      "🚀 Starting new log entry...\n",
      "🧠 Generated Summary:  PYTHON CODE is a Python-based version of the Python program . It is called \"PYTHon Code\"\n",
      "✅ Experiment logged with ID 4.\n"
     ]
    }
   ],
   "source": [
    "%%log_experiment Train a basic linear regression model.\n",
    "from sklearn.linear_model import LinearRegression\n",
    "import numpy as np\n",
    "\n",
    "X = np.array([[1], [2], [3], [4], [5]])\n",
    "y = np.array([2, 4, 5, 4, 5])\n",
    "\n",
    "model = LinearRegression()\n",
    "model.fit(X, y)\n",
    "print(f\"Model coefficient: {model.coef_[0]}\")\n",
    "print(f\"Model intercept: {model.intercept_}\")"
   ]
  },
  {
   "cell_type": "code",
   "execution_count": 6,
   "id": "a8129edc",
   "metadata": {},
   "outputs": [
    {
     "data": {
      "text/html": [
       "<div>\n",
       "<style scoped>\n",
       "    .dataframe tbody tr th:only-of-type {\n",
       "        vertical-align: middle;\n",
       "    }\n",
       "\n",
       "    .dataframe tbody tr th {\n",
       "        vertical-align: top;\n",
       "    }\n",
       "\n",
       "    .dataframe thead th {\n",
       "        text-align: right;\n",
       "    }\n",
       "</style>\n",
       "<table border=\"1\" class=\"dataframe\">\n",
       "  <thead>\n",
       "    <tr style=\"text-align: right;\">\n",
       "      <th></th>\n",
       "      <th>id</th>\n",
       "      <th>timestamp</th>\n",
       "      <th>summary</th>\n",
       "      <th>code</th>\n",
       "      <th>output</th>\n",
       "      <th>user_notes</th>\n",
       "    </tr>\n",
       "  </thead>\n",
       "  <tbody>\n",
       "    <tr>\n",
       "      <th>0</th>\n",
       "      <td>1</td>\n",
       "      <td>2025-10-01T23:38:43.655517</td>\n",
       "      <td>PYTHON CODE is a Python-based version of the ...</td>\n",
       "      <td>from sklearn.linear_model import LinearRegress...</td>\n",
       "      <td>None</td>\n",
       "      <td>Train a basic linear regression model.</td>\n",
       "    </tr>\n",
       "    <tr>\n",
       "      <th>1</th>\n",
       "      <td>4</td>\n",
       "      <td>2025-10-02T02:17:51.170689</td>\n",
       "      <td>PYTHON CODE is a Python-based version of the ...</td>\n",
       "      <td>from sklearn.linear_model import LinearRegress...</td>\n",
       "      <td>None</td>\n",
       "      <td>Train a basic linear regression model.</td>\n",
       "    </tr>\n",
       "    <tr>\n",
       "      <th>2</th>\n",
       "      <td>0</td>\n",
       "      <td>2025-10-01T23:37:58.853360</td>\n",
       "      <td>PYTHON CODE: \"Python code\" PyTHON code: \"pyth...</td>\n",
       "      <td>import pandas as pd\\ndf = pd.DataFrame({\\n    ...</td>\n",
       "      <td>a    b\\na  1.0  1.0\\nb  1.0  1.0</td>\n",
       "      <td>Simple data analysis on a small dataset.</td>\n",
       "    </tr>\n",
       "  </tbody>\n",
       "</table>\n",
       "</div>"
      ],
      "text/plain": [
       "   id                   timestamp  \\\n",
       "0   1  2025-10-01T23:38:43.655517   \n",
       "1   4  2025-10-02T02:17:51.170689   \n",
       "2   0  2025-10-01T23:37:58.853360   \n",
       "\n",
       "                                             summary  \\\n",
       "0   PYTHON CODE is a Python-based version of the ...   \n",
       "1   PYTHON CODE is a Python-based version of the ...   \n",
       "2   PYTHON CODE: \"Python code\" PyTHON code: \"pyth...   \n",
       "\n",
       "                                                code  \\\n",
       "0  from sklearn.linear_model import LinearRegress...   \n",
       "1  from sklearn.linear_model import LinearRegress...   \n",
       "2  import pandas as pd\\ndf = pd.DataFrame({\\n    ...   \n",
       "\n",
       "                                  output  \\\n",
       "0                                   None   \n",
       "1                                   None   \n",
       "2       a    b\\na  1.0  1.0\\nb  1.0  1.0   \n",
       "\n",
       "                                 user_notes  \n",
       "0    Train a basic linear regression model.  \n",
       "1    Train a basic linear regression model.  \n",
       "2  Simple data analysis on a small dataset.  "
      ]
     },
     "execution_count": 6,
     "metadata": {},
     "output_type": "execute_result"
    }
   ],
   "source": [
    "from genai_labnote import default_logger\n",
    "\n",
    "# Use the default logger instance to search\n",
    "# Ask for only the top 2 results to avoid duplicates\n",
    "\n",
    "results = default_logger().search(\"What were the model parameters for the regression?\")\n",
    "results"
   ]
  },
  {
   "cell_type": "code",
   "execution_count": 7,
   "id": "7fecddca",
   "metadata": {},
   "outputs": [
    {
     "data": {
      "text/html": [
       "<div>\n",
       "<style scoped>\n",
       "    .dataframe tbody tr th:only-of-type {\n",
       "        vertical-align: middle;\n",
       "    }\n",
       "\n",
       "    .dataframe tbody tr th {\n",
       "        vertical-align: top;\n",
       "    }\n",
       "\n",
       "    .dataframe thead th {\n",
       "        text-align: right;\n",
       "    }\n",
       "</style>\n",
       "<table border=\"1\" class=\"dataframe\">\n",
       "  <thead>\n",
       "    <tr style=\"text-align: right;\">\n",
       "      <th></th>\n",
       "      <th>id</th>\n",
       "      <th>timestamp</th>\n",
       "      <th>summary</th>\n",
       "      <th>code</th>\n",
       "      <th>output</th>\n",
       "      <th>user_notes</th>\n",
       "    </tr>\n",
       "  </thead>\n",
       "  <tbody>\n",
       "    <tr>\n",
       "      <th>0</th>\n",
       "      <td>0</td>\n",
       "      <td>2025-10-01T23:37:58.853360</td>\n",
       "      <td>PYTHON CODE: \"Python code\" PyTHON code: \"pyth...</td>\n",
       "      <td>import pandas as pd\\ndf = pd.DataFrame({\\n    ...</td>\n",
       "      <td>a    b\\na  1.0  1.0\\nb  1.0  1.0</td>\n",
       "      <td>Simple data analysis on a small dataset.</td>\n",
       "    </tr>\n",
       "    <tr>\n",
       "      <th>1</th>\n",
       "      <td>1</td>\n",
       "      <td>2025-10-01T23:38:43.655517</td>\n",
       "      <td>PYTHON CODE is a Python-based version of the ...</td>\n",
       "      <td>from sklearn.linear_model import LinearRegress...</td>\n",
       "      <td>None</td>\n",
       "      <td>Train a basic linear regression model.</td>\n",
       "    </tr>\n",
       "    <tr>\n",
       "      <th>2</th>\n",
       "      <td>2</td>\n",
       "      <td>2025-10-01T23:50:19.775215</td>\n",
       "      <td>PIL import Imageimport Imageimport urllib. Lo...</td>\n",
       "      <td># Install libraries for this example\\n!pip ins...</td>\n",
       "      <td>None</td>\n",
       "      <td>An image classification task using a pre-train...</td>\n",
       "    </tr>\n",
       "    <tr>\n",
       "      <th>3</th>\n",
       "      <td>3</td>\n",
       "      <td>2025-10-02T02:17:43.548621</td>\n",
       "      <td>PYTHON CODE: \"Python code\" PyTHON code: \"pyth...</td>\n",
       "      <td>import pandas as pd\\ndf = pd.DataFrame({\\n    ...</td>\n",
       "      <td>a    b\\na  1.0  1.0\\nb  1.0  1.0</td>\n",
       "      <td>Simple data analysis on a small dataset.</td>\n",
       "    </tr>\n",
       "    <tr>\n",
       "      <th>4</th>\n",
       "      <td>4</td>\n",
       "      <td>2025-10-02T02:17:51.170689</td>\n",
       "      <td>PYTHON CODE is a Python-based version of the ...</td>\n",
       "      <td>from sklearn.linear_model import LinearRegress...</td>\n",
       "      <td>None</td>\n",
       "      <td>Train a basic linear regression model.</td>\n",
       "    </tr>\n",
       "  </tbody>\n",
       "</table>\n",
       "</div>"
      ],
      "text/plain": [
       "   id                   timestamp  \\\n",
       "0   0  2025-10-01T23:37:58.853360   \n",
       "1   1  2025-10-01T23:38:43.655517   \n",
       "2   2  2025-10-01T23:50:19.775215   \n",
       "3   3  2025-10-02T02:17:43.548621   \n",
       "4   4  2025-10-02T02:17:51.170689   \n",
       "\n",
       "                                             summary  \\\n",
       "0   PYTHON CODE: \"Python code\" PyTHON code: \"pyth...   \n",
       "1   PYTHON CODE is a Python-based version of the ...   \n",
       "2   PIL import Imageimport Imageimport urllib. Lo...   \n",
       "3   PYTHON CODE: \"Python code\" PyTHON code: \"pyth...   \n",
       "4   PYTHON CODE is a Python-based version of the ...   \n",
       "\n",
       "                                                code  \\\n",
       "0  import pandas as pd\\ndf = pd.DataFrame({\\n    ...   \n",
       "1  from sklearn.linear_model import LinearRegress...   \n",
       "2  # Install libraries for this example\\n!pip ins...   \n",
       "3  import pandas as pd\\ndf = pd.DataFrame({\\n    ...   \n",
       "4  from sklearn.linear_model import LinearRegress...   \n",
       "\n",
       "                                  output  \\\n",
       "0       a    b\\na  1.0  1.0\\nb  1.0  1.0   \n",
       "1                                   None   \n",
       "2                                   None   \n",
       "3       a    b\\na  1.0  1.0\\nb  1.0  1.0   \n",
       "4                                   None   \n",
       "\n",
       "                                          user_notes  \n",
       "0           Simple data analysis on a small dataset.  \n",
       "1             Train a basic linear regression model.  \n",
       "2  An image classification task using a pre-train...  \n",
       "3           Simple data analysis on a small dataset.  \n",
       "4             Train a basic linear regression model.  "
      ]
     },
     "execution_count": 7,
     "metadata": {},
     "output_type": "execute_result"
    }
   ],
   "source": [
    "# Show all experiments you've logged\n",
    "default_logger().show_all()"
   ]
  },
  {
   "cell_type": "code",
   "execution_count": 17,
   "id": "5b4390fb",
   "metadata": {},
   "outputs": [
    {
     "name": "stdout",
     "output_type": "stream",
     "text": [
      "Downloading: \"https://download.pytorch.org/models/resnet18-f37072fd.pth\" to C:\\Users\\aniru/.cache\\torch\\hub\\checkpoints\\resnet18-f37072fd.pth\n"
     ]
    },
    {
     "name": "stderr",
     "output_type": "stream",
     "text": [
      "100%|██████████| 44.7M/44.7M [00:36<00:00, 1.28MB/s]\n"
     ]
    },
    {
     "name": "stdout",
     "output_type": "stream",
     "text": [
      "Prediction: golden retriever\n",
      "Confidence: 0.59\n",
      "\n",
      "🚀 Starting new log entry...\n",
      "🧠 Generated Summary:  PIL import Imageimport Imageimport urllib. Load a pre-trained ResNet-18 model, a type of Convolutional Neural Network (CNN) model . Download ImageNet class labels:    urllIB.request.urlretrieve\n",
      "✅ Experiment logged with ID 2.\n"
     ]
    }
   ],
   "source": [
    "%%log_experiment An image classification task using a pre-trained ResNet model.\n",
    "# Install libraries for this example\n",
    "!pip install -q torchvision Pillow\n",
    "\n",
    "import torch\n",
    "from torchvision import models, transforms\n",
    "from PIL import Image\n",
    "import urllib\n",
    "\n",
    "# 1. Load a pre-trained ResNet-18 model, a type of Convolutional Neural Network (CNN)\n",
    "model = models.resnet18(weights='IMAGENET1K_V1')\n",
    "model.eval()\n",
    "\n",
    "# 2. Download ImageNet class labels\n",
    "try:\n",
    "    urllib.request.urlretrieve(\"https://raw.githubusercontent.com/pytorch/hub/master/imagenet_classes.txt\", \"imagenet_classes.txt\")\n",
    "except Exception as e:\n",
    "    print(f\"Could not download labels: {e}\")\n",
    "\n",
    "with open(\"imagenet_classes.txt\", \"r\") as f:\n",
    "    categories = [s.strip() for s in f.readlines()]\n",
    "\n",
    "# 3. Create a dummy image to classify (e.g., a golden retriever)\n",
    "try:\n",
    "    urllib.request.urlretrieve(\"https://github.com/EliSchwartz/imagenet-sample-images/blob/master/n02099601_golden_retriever.JPEG?raw=true\", \"dog.jpg\")\n",
    "    input_image = Image.open(\"dog.jpg\")\n",
    "except Exception as e:\n",
    "    print(f\"Could not download sample image: {e}\")\n",
    "    # Create a simple fallback image if download fails\n",
    "    input_image = Image.new('RGB', (224, 224), color = 'red')\n",
    "\n",
    "# 4. Preprocess the image\n",
    "preprocess = transforms.Compose([\n",
    "    transforms.Resize(256),\n",
    "    transforms.CenterCrop(224),\n",
    "    transforms.ToTensor(),\n",
    "    transforms.Normalize(mean=[0.485, 0.456, 0.406], std=[0.229, 0.224, 0.225]),\n",
    "])\n",
    "input_tensor = preprocess(input_image)\n",
    "input_batch = input_tensor.unsqueeze(0) # create a mini-batch as expected by the model\n",
    "\n",
    "# 5. Get the prediction\n",
    "with torch.no_grad():\n",
    "    output = model(input_batch)\n",
    "\n",
    "probabilities = torch.nn.functional.softmax(output[0], dim=0)\n",
    "top_prob, top_catid = torch.topk(probabilities, 1)\n",
    "\n",
    "print(f\"Prediction: {categories[top_catid]}\")\n",
    "print(f\"Confidence: {top_prob.item():.2f}\")"
   ]
  },
  {
   "cell_type": "code",
   "execution_count": 18,
   "id": "3ad3a6db",
   "metadata": {},
   "outputs": [
    {
     "name": "stdout",
     "output_type": "stream",
     "text": [
      "\n",
      "🔍 Searching for: 'Show me my experiment that used a convolutional neural network'...\n"
     ]
    },
    {
     "data": {
      "text/html": [
       "<div>\n",
       "<style scoped>\n",
       "    .dataframe tbody tr th:only-of-type {\n",
       "        vertical-align: middle;\n",
       "    }\n",
       "\n",
       "    .dataframe tbody tr th {\n",
       "        vertical-align: top;\n",
       "    }\n",
       "\n",
       "    .dataframe thead th {\n",
       "        text-align: right;\n",
       "    }\n",
       "</style>\n",
       "<table border=\"1\" class=\"dataframe\">\n",
       "  <thead>\n",
       "    <tr style=\"text-align: right;\">\n",
       "      <th></th>\n",
       "      <th>id</th>\n",
       "      <th>timestamp</th>\n",
       "      <th>summary</th>\n",
       "      <th>code</th>\n",
       "      <th>output</th>\n",
       "      <th>user_notes</th>\n",
       "    </tr>\n",
       "  </thead>\n",
       "  <tbody>\n",
       "    <tr>\n",
       "      <th>0</th>\n",
       "      <td>2</td>\n",
       "      <td>2025-10-01T23:50:19.775215</td>\n",
       "      <td>PIL import Imageimport Imageimport urllib. Lo...</td>\n",
       "      <td># Install libraries for this example\\n!pip ins...</td>\n",
       "      <td>None</td>\n",
       "      <td>An image classification task using a pre-train...</td>\n",
       "    </tr>\n",
       "  </tbody>\n",
       "</table>\n",
       "</div>"
      ],
      "text/plain": [
       "   id                   timestamp  \\\n",
       "0   2  2025-10-01T23:50:19.775215   \n",
       "\n",
       "                                             summary  \\\n",
       "0   PIL import Imageimport Imageimport urllib. Lo...   \n",
       "\n",
       "                                                code output  \\\n",
       "0  # Install libraries for this example\\n!pip ins...   None   \n",
       "\n",
       "                                          user_notes  \n",
       "0  An image classification task using a pre-train...  "
      ]
     },
     "execution_count": 18,
     "metadata": {},
     "output_type": "execute_result"
    }
   ],
   "source": [
    "from genai_labnote import default_logger\n",
    "\n",
    "# Get the logger instance again in this cell to ensure it's defined\n",
    "logger_instance = default_logger()\n",
    "\n",
    "# Now you can use it to search\n",
    "results = logger_instance.search(\"Show me my experiment that used a convolutional neural network\", k=1)\n",
    "results"
   ]
  },
  {
   "cell_type": "code",
   "execution_count": 3,
   "id": "60675660",
   "metadata": {},
   "outputs": [
    {
     "name": "stdout",
     "output_type": "stream",
     "text": [
      "Initializing GenAI Lab Notebook...\n",
      "Initializing LLM Interface...\n",
      "Loading summarization model (distilbart)...\n"
     ]
    },
    {
     "name": "stderr",
     "output_type": "stream",
     "text": [
      "Device set to use cpu\n"
     ]
    },
    {
     "name": "stdout",
     "output_type": "stream",
     "text": [
      "Loading generative QA model (flan-t5-base)...\n"
     ]
    },
    {
     "name": "stderr",
     "output_type": "stream",
     "text": [
      "c:\\Users\\aniru\\Desktop\\genai-lab-notebook\\.venv\\Lib\\site-packages\\huggingface_hub\\file_download.py:143: UserWarning: `huggingface_hub` cache-system uses symlinks by default to efficiently store duplicated files but your machine does not support them in C:\\Users\\aniru\\.cache\\huggingface\\hub\\models--google--flan-t5-base. Caching files will still work but in a degraded version that might require more space on your disk. This warning can be disabled by setting the `HF_HUB_DISABLE_SYMLINKS_WARNING` environment variable. For more details, see https://huggingface.co/docs/huggingface_hub/how-to-cache#limitations.\n",
      "To support symlinks on Windows, you either need to activate Developer Mode or to run Python as an administrator. In order to activate developer mode, see this article: https://docs.microsoft.com/en-us/windows/apps/get-started/enable-your-device-for-development\n",
      "  warnings.warn(message)\n",
      "Xet Storage is enabled for this repo, but the 'hf_xet' package is not installed. Falling back to regular HTTP download. For better performance, install the package with: `pip install huggingface_hub[hf_xet]` or `pip install hf_xet`\n",
      "Xet Storage is enabled for this repo, but the 'hf_xet' package is not installed. Falling back to regular HTTP download. For better performance, install the package with: `pip install huggingface_hub[hf_xet]` or `pip install hf_xet`\n",
      "Device set to use cpu\n",
      "Token indices sequence length is longer than the specified maximum sequence length for this model (703 > 512). Running this sequence through the model will result in indexing errors\n"
     ]
    },
    {
     "name": "stdout",
     "output_type": "stream",
     "text": [
      "LLM Interface ready.\n",
      "Ready to log experiments.\n",
      "\n",
      "❓ Answering question: 'What was the model intercept in the linear regression experiment and what was the predicted class in the image recognition task?'\n",
      "🔍 Finding relevant notes in your lab book...\n",
      "🧠 Thinking... Synthesizing a direct answer...\n"
     ]
    },
    {
     "name": "stderr",
     "output_type": "stream",
     "text": [
      "Both `max_new_tokens` (=256) and `max_length`(=256) seem to have been set. `max_new_tokens` will take precedence. Please refer to the documentation for more information. (https://huggingface.co/docs/transformers/main/en/main_classes/text_generation)\n"
     ]
    },
    {
     "name": "stdout",
     "output_type": "stream",
     "text": [
      "\n",
      "--- SYNTHESIZED ANSWER ---\n",
      "Summary: model intercept --- Experiment ID 1 on 2025-10-01T23:38:43.655517: User Notes: Train a basic linear regression model . import numpy as np.array([1], [2], [3], [4], [5]]) y = np.array([2, 4, 5, 4, 5]) model = LinearRegression() model.fit(X, y) print(f\"Model coefficient: model.coef_[0]\") print(f\"Model intercept: model.intercept_\") --- Experiment ID 2 on 2025-10-01T23:38:43.655517: User Notes: Train a basic linear regression model . import numpy as np.array([1], [2], [3], [4], [5]]) y = np.array([2, 4, 5, 4, 5]) model = LinearRegression() model.fit(X, y) print(f\"Model coefficient: model.coef_[0]\")\n"
     ]
    }
   ],
   "source": [
    "from genai_labnote import default_logger # <-- Add this import line\n",
    "\n",
    "# Get the logger instance\n",
    "logger_instance = default_logger()\n",
    "\n",
    "# Ask a question that requires information from multiple experiments\n",
    "question = \"What was the model intercept in the linear regression experiment and what was the predicted class in the image recognition task?\"\n",
    "\n",
    "# Get a direct, synthesized answer\n",
    "answer = logger_instance.query(question)\n",
    "\n",
    "print(\"\\n--- SYNTHESIZED ANSWER ---\")\n",
    "print(answer)"
   ]
  },
  {
   "cell_type": "code",
   "execution_count": 1,
   "id": "53269720",
   "metadata": {},
   "outputs": [
    {
     "name": "stderr",
     "output_type": "stream",
     "text": [
      "c:\\Users\\aniru\\Desktop\\genai-lab-notebook\\.venv\\Lib\\site-packages\\tqdm\\auto.py:21: TqdmWarning: IProgress not found. Please update jupyter and ipywidgets. See https://ipywidgets.readthedocs.io/en/stable/user_install.html\n",
      "  from .autonotebook import tqdm as notebook_tqdm\n"
     ]
    },
    {
     "name": "stdout",
     "output_type": "stream",
     "text": [
      "Initializing GenAI Lab Notebook...\n",
      "Initializing LLM Interface for local summarization...\n"
     ]
    },
    {
     "name": "stderr",
     "output_type": "stream",
     "text": [
      "Device set to use cpu\n"
     ]
    },
    {
     "name": "stdout",
     "output_type": "stream",
     "text": [
      "Local summarizer ready.\n",
      "Ready to log experiments and run agent.\n",
      "\n",
      "🤖 Agent activated. Answering question: 'Find the model intercept from my linear regression experiment and tell me what its value would be if it were multiplied by 3.'\n",
      "Creating agent for the first time...\n",
      "\n",
      "\n",
      "\u001b[1m> Entering new AgentExecutor chain...\u001b[0m\n"
     ]
    },
    {
     "name": "stderr",
     "output_type": "stream",
     "text": [
      "Retrying langchain_google_genai.chat_models._chat_with_retry.<locals>._chat_with_retry in 2.0 seconds as it raised NotFound: 404 models/gemini-1.5-flash-latest is not found for API version v1beta, or is not supported for generateContent. Call ListModels to see the list of available models and their supported methods..\n"
     ]
    },
    {
     "name": "stdout",
     "output_type": "stream",
     "text": [
      "\n",
      "--- AGENT'S FINAL ANSWER ---\n",
      "An error occurred while running the agent: 404 models/gemini-1.5-flash-latest is not found for API version v1beta, or is not supported for generateContent. Call ListModels to see the list of available models and their supported methods.\n"
     ]
    }
   ],
   "source": [
    "# --- FINAL CELL: Use the AI Agent ---\n",
    "from genai_labnote import default_logger\n",
    "\n",
    "# Get the logger instance, which now has the agent runner\n",
    "logger_instance = default_logger()\n",
    "\n",
    "# Ask a multi-step question that requires searching and then calculating\n",
    "question = \"Find the model intercept from my linear regression experiment and tell me what its value would be if it were multiplied by 3.\"\n",
    "\n",
    "# Run the agent\n",
    "answer = logger_instance.run_agent(question)\n",
    "\n",
    "print(\"\\n--- AGENT'S FINAL ANSWER ---\")\n",
    "print(answer)"
   ]
  }
 ],
 "metadata": {
  "kernelspec": {
   "display_name": ".venv",
   "language": "python",
   "name": "python3"
  },
  "language_info": {
   "codemirror_mode": {
    "name": "ipython",
    "version": 3
   },
   "file_extension": ".py",
   "mimetype": "text/x-python",
   "name": "python",
   "nbconvert_exporter": "python",
   "pygments_lexer": "ipython3",
   "version": "3.13.7"
  }
 },
 "nbformat": 4,
 "nbformat_minor": 5
}
